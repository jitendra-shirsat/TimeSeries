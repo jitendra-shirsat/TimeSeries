{
 "cells": [
  {
   "cell_type": "code",
   "execution_count": null,
   "id": "68539198-3194-498a-a171-4aae6419472f",
   "metadata": {
    "tags": []
   },
   "outputs": [],
   "source": [
    "!pip install numpy\n",
    "!pip install pandas"
   ]
  },
  {
   "cell_type": "code",
   "execution_count": 12,
   "id": "1b6e3dbf-b091-44ff-94b6-91b893ff6859",
   "metadata": {
    "tags": []
   },
   "outputs": [],
   "source": [
    "import numpy as np\n",
    "import pandas as pd"
   ]
  },
  {
   "cell_type": "code",
   "execution_count": 6,
   "id": "27dc0cbc-ad38-4b02-a682-d29533371e31",
   "metadata": {
    "jupyter": {
     "source_hidden": true
    },
    "tags": []
   },
   "outputs": [],
   "source": [
    "N = 1000\n",
    "X = np.random.random((N,2))*6-3"
   ]
  },
  {
   "cell_type": "code",
   "execution_count": null,
   "id": "a09a203e-1233-49e5-b80c-c26845795bf7",
   "metadata": {
    "tags": []
   },
   "outputs": [],
   "source": [
    "print(X[:,0])"
   ]
  },
  {
   "cell_type": "code",
   "execution_count": 19,
   "id": "07863da7-3fbb-49ca-9ae9-69cb919e8065",
   "metadata": {},
   "outputs": [],
   "source": [
    "pdFrame = pd.read_csv(r'C:\\Users\\sjmp1s\\OneDrive - Aptiv\\Documents\\Time_Series\\machine_learning_examples\\airline\\international-airline-passengers.csv')"
   ]
  },
  {
   "cell_type": "code",
   "execution_count": 36,
   "id": "9896afe2-d066-455f-845f-bdf21a12debe",
   "metadata": {},
   "outputs": [],
   "source": [
    "pdFrame['Sales']=pdFrame.iloc[:,1]"
   ]
  },
  {
   "cell_type": "code",
   "execution_count": 38,
   "id": "8e7222c9-917c-410a-8c95-b21f501463ef",
   "metadata": {},
   "outputs": [],
   "source": [
    "pdFrame.drop(pdFrame.columns[1],axis=1,inplace=True)"
   ]
  },
  {
   "cell_type": "code",
   "execution_count": 39,
   "id": "9dc062c3-e5d1-46c3-9200-bb2d4b187111",
   "metadata": {},
   "outputs": [
    {
     "data": {
      "text/html": [
       "<div>\n",
       "<style scoped>\n",
       "    .dataframe tbody tr th:only-of-type {\n",
       "        vertical-align: middle;\n",
       "    }\n",
       "\n",
       "    .dataframe tbody tr th {\n",
       "        vertical-align: top;\n",
       "    }\n",
       "\n",
       "    .dataframe thead th {\n",
       "        text-align: right;\n",
       "    }\n",
       "</style>\n",
       "<table border=\"1\" class=\"dataframe\">\n",
       "  <thead>\n",
       "    <tr style=\"text-align: right;\">\n",
       "      <th></th>\n",
       "      <th>Month</th>\n",
       "      <th>Sales</th>\n",
       "    </tr>\n",
       "  </thead>\n",
       "  <tbody>\n",
       "    <tr>\n",
       "      <th>0</th>\n",
       "      <td>1949-01</td>\n",
       "      <td>112.0</td>\n",
       "    </tr>\n",
       "    <tr>\n",
       "      <th>1</th>\n",
       "      <td>1949-02</td>\n",
       "      <td>118.0</td>\n",
       "    </tr>\n",
       "    <tr>\n",
       "      <th>2</th>\n",
       "      <td>1949-03</td>\n",
       "      <td>132.0</td>\n",
       "    </tr>\n",
       "    <tr>\n",
       "      <th>3</th>\n",
       "      <td>1949-04</td>\n",
       "      <td>129.0</td>\n",
       "    </tr>\n",
       "    <tr>\n",
       "      <th>4</th>\n",
       "      <td>1949-05</td>\n",
       "      <td>121.0</td>\n",
       "    </tr>\n",
       "    <tr>\n",
       "      <th>...</th>\n",
       "      <td>...</td>\n",
       "      <td>...</td>\n",
       "    </tr>\n",
       "    <tr>\n",
       "      <th>140</th>\n",
       "      <td>1960-09</td>\n",
       "      <td>508.0</td>\n",
       "    </tr>\n",
       "    <tr>\n",
       "      <th>141</th>\n",
       "      <td>1960-10</td>\n",
       "      <td>461.0</td>\n",
       "    </tr>\n",
       "    <tr>\n",
       "      <th>142</th>\n",
       "      <td>1960-11</td>\n",
       "      <td>390.0</td>\n",
       "    </tr>\n",
       "    <tr>\n",
       "      <th>143</th>\n",
       "      <td>1960-12</td>\n",
       "      <td>432.0</td>\n",
       "    </tr>\n",
       "    <tr>\n",
       "      <th>144</th>\n",
       "      <td>International airline passengers: monthly tota...</td>\n",
       "      <td>NaN</td>\n",
       "    </tr>\n",
       "  </tbody>\n",
       "</table>\n",
       "<p>145 rows × 2 columns</p>\n",
       "</div>"
      ],
      "text/plain": [
       "                                                 Month  Sales\n",
       "0                                              1949-01  112.0\n",
       "1                                              1949-02  118.0\n",
       "2                                              1949-03  132.0\n",
       "3                                              1949-04  129.0\n",
       "4                                              1949-05  121.0\n",
       "..                                                 ...    ...\n",
       "140                                            1960-09  508.0\n",
       "141                                            1960-10  461.0\n",
       "142                                            1960-11  390.0\n",
       "143                                            1960-12  432.0\n",
       "144  International airline passengers: monthly tota...    NaN\n",
       "\n",
       "[145 rows x 2 columns]"
      ]
     },
     "execution_count": 39,
     "metadata": {},
     "output_type": "execute_result"
    }
   ],
   "source": [
    "pdFrame"
   ]
  }
 ],
 "metadata": {
  "kernelspec": {
   "display_name": "Python 3 (ipykernel)",
   "language": "python",
   "name": "python3"
  },
  "language_info": {
   "codemirror_mode": {
    "name": "ipython",
    "version": 3
   },
   "file_extension": ".py",
   "mimetype": "text/x-python",
   "name": "python",
   "nbconvert_exporter": "python",
   "pygments_lexer": "ipython3",
   "version": "3.10.1"
  }
 },
 "nbformat": 4,
 "nbformat_minor": 5
}
