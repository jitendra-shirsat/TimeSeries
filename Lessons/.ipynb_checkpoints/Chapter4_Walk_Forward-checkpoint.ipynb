{
 "cells": [
  {
   "cell_type": "code",
   "execution_count": 1,
   "id": "2f775571-0f77-41ed-bcba-bada75e110ce",
   "metadata": {},
   "outputs": [],
   "source": [
    "import numpy as np\n",
    "import matplotlib.pyplot as plt\n",
    "import pandas as pd\n",
    "import itertools\n",
    "from sklearn.metrics import mean_squared_error\n",
    "from statsmodels.tsa.holtwinters import ExponentialSmoothing"
   ]
  },
  {
   "cell_type": "code",
   "execution_count": 3,
   "id": "6ccfcc1c-0959-4259-a1e7-da368313edcd",
   "metadata": {},
   "outputs": [],
   "source": [
    "df = pd.read_csv(r'/Users/jitendrashirsat/Documents/Time-Series/TimeSeries/Lessons/airline_passengers.csv' \\\n",
    "            ,index_col='Month',parse_dates=True)"
   ]
  },
  {
   "cell_type": "code",
   "execution_count": 4,
   "id": "ae165534-905a-4265-bf59-9dc422ca4946",
   "metadata": {},
   "outputs": [
    {
     "data": {
      "text/html": [
       "<div>\n",
       "<style scoped>\n",
       "    .dataframe tbody tr th:only-of-type {\n",
       "        vertical-align: middle;\n",
       "    }\n",
       "\n",
       "    .dataframe tbody tr th {\n",
       "        vertical-align: top;\n",
       "    }\n",
       "\n",
       "    .dataframe thead th {\n",
       "        text-align: right;\n",
       "    }\n",
       "</style>\n",
       "<table border=\"1\" class=\"dataframe\">\n",
       "  <thead>\n",
       "    <tr style=\"text-align: right;\">\n",
       "      <th></th>\n",
       "      <th>Passengers</th>\n",
       "    </tr>\n",
       "    <tr>\n",
       "      <th>Month</th>\n",
       "      <th></th>\n",
       "    </tr>\n",
       "  </thead>\n",
       "  <tbody>\n",
       "    <tr>\n",
       "      <th>1949-01-01</th>\n",
       "      <td>112</td>\n",
       "    </tr>\n",
       "    <tr>\n",
       "      <th>1949-02-01</th>\n",
       "      <td>118</td>\n",
       "    </tr>\n",
       "    <tr>\n",
       "      <th>1949-03-01</th>\n",
       "      <td>132</td>\n",
       "    </tr>\n",
       "    <tr>\n",
       "      <th>1949-04-01</th>\n",
       "      <td>129</td>\n",
       "    </tr>\n",
       "    <tr>\n",
       "      <th>1949-05-01</th>\n",
       "      <td>121</td>\n",
       "    </tr>\n",
       "  </tbody>\n",
       "</table>\n",
       "</div>"
      ],
      "text/plain": [
       "            Passengers\n",
       "Month                 \n",
       "1949-01-01         112\n",
       "1949-02-01         118\n",
       "1949-03-01         132\n",
       "1949-04-01         129\n",
       "1949-05-01         121"
      ]
     },
     "execution_count": 4,
     "metadata": {},
     "output_type": "execute_result"
    }
   ],
   "source": [
    "df.head(5)"
   ]
  },
  {
   "cell_type": "code",
   "execution_count": 5,
   "id": "066f40aa-900b-414d-99b1-689c1274a264",
   "metadata": {},
   "outputs": [],
   "source": [
    "df.index.freq = 'MS'"
   ]
  },
  {
   "cell_type": "code",
   "execution_count": 6,
   "id": "be5f80df-8499-416c-8d3b-5200310f028a",
   "metadata": {},
   "outputs": [
    {
     "data": {
      "text/plain": [
       "(144, 1)"
      ]
     },
     "execution_count": 6,
     "metadata": {},
     "output_type": "execute_result"
    }
   ],
   "source": [
    "df.shape"
   ]
  },
  {
   "cell_type": "code",
   "execution_count": 13,
   "id": "1c8f1939-fb94-4221-bc48-a3cb8cb736ac",
   "metadata": {},
   "outputs": [],
   "source": [
    "h = 12\n",
    "steps = 10\n",
    "Ntest = len(df) - h - steps + 1"
   ]
  },
  {
   "cell_type": "code",
   "execution_count": 8,
   "id": "b8da3a78-e903-4e44-a839-1417f0c7c636",
   "metadata": {},
   "outputs": [],
   "source": [
    "trend_type_list = ['add','mul']\n",
    "seasonal_type_list = ['add', 'mul']\n",
    "damped_trend_list = [True,False]\n",
    "init_method_list = ['estimated', 'heuristic', 'legacy-heurisitc']\n",
    "use_boxcox_list = [True,False,0]\n"
   ]
  },
  {
   "cell_type": "code",
   "execution_count": 16,
   "id": "a002c467-078b-4bbd-963c-c035f824de4b",
   "metadata": {},
   "outputs": [
    {
     "name": "stdout",
     "output_type": "stream",
     "text": [
      "Steps Completed: 10\n"
     ]
    }
   ],
   "source": [
    "# steps_complete = 0\n",
    "# for end_of_train in range(Ntest,len(df) - h +1):\n",
    "#     steps_complete+=1\n",
    "\n",
    "# print(f'Steps Completed: {steps_complete}')"
   ]
  },
  {
   "cell_type": "code",
   "execution_count": 17,
   "id": "ef7250b9-df7a-4139-95e0-3daa6d657c6f",
   "metadata": {},
   "outputs": [],
   "source": [
    "def walkforward(trend_type,seasonal_type,damped_trend,init_method,use_boxcox,debug=False):\n",
    "    errors = []\n",
    "    seen_last = False\n",
    "    steps_completed = 0\n",
    "    \n",
    "    for end_of_train in range(Ntest,len(df) - h +1):\n",
    "        train = df.iloc[:end_of_train]\n",
    "        test = df.iloc[end_of_train:end_of_train+h]\n",
    "        \n",
    "        if test.index[-1] == df.index[-1]:\n",
    "            seen_last = True\n",
    "        \n",
    "        steps_completed +=1\n",
    "        \n",
    "        hw = ExponentialSmoothing(train['Passengers'], initialization_method=init_method,\n",
    "                                 trend=trend_type, damped_trend=damped_trend, seasonal=seasonal_type,\n",
    "                                 seasonal_periods=12, use_boxcox=use_boxcox)\n",
    "        res_hw = hw.fit()\n",
    "        \n",
    "        fcast = res_hw.forecast(h)\n",
    "        error = mean_squared_error(test['Passengers'],fcast)\n",
    "        errors.append(error)\n",
    "        \n",
    "    if debug:\n",
    "        print(\"Last seen:\", seen_last)\n",
    "        print(\"Steps completed:\" , steps_completed)\n",
    "        \n",
    "    return np.mean(errors)\n",
    "            "
   ]
  },
  {
   "cell_type": "code",
   "execution_count": 18,
   "id": "04a7c41e-34a7-497f-80b0-70cb5484311f",
   "metadata": {},
   "outputs": [
    {
     "name": "stderr",
     "output_type": "stream",
     "text": [
      "/Users/jitendrashirsat/opt/anaconda3/lib/python3.9/site-packages/statsmodels/tsa/base/tsa_model.py:132: FutureWarning: The 'freq' argument in Timestamp is deprecated and will be removed in a future version.\n",
      "  date_key = Timestamp(key, freq=base_index.freq)\n",
      "/Users/jitendrashirsat/opt/anaconda3/lib/python3.9/site-packages/statsmodels/tsa/base/tsa_model.py:132: FutureWarning: The 'freq' argument in Timestamp is deprecated and will be removed in a future version.\n",
      "  date_key = Timestamp(key, freq=base_index.freq)\n",
      "/Users/jitendrashirsat/opt/anaconda3/lib/python3.9/site-packages/statsmodels/tsa/base/tsa_model.py:132: FutureWarning: The 'freq' argument in Timestamp is deprecated and will be removed in a future version.\n",
      "  date_key = Timestamp(key, freq=base_index.freq)\n",
      "/Users/jitendrashirsat/opt/anaconda3/lib/python3.9/site-packages/statsmodels/tsa/base/tsa_model.py:132: FutureWarning: The 'freq' argument in Timestamp is deprecated and will be removed in a future version.\n",
      "  date_key = Timestamp(key, freq=base_index.freq)\n",
      "/Users/jitendrashirsat/opt/anaconda3/lib/python3.9/site-packages/statsmodels/tsa/base/tsa_model.py:132: FutureWarning: The 'freq' argument in Timestamp is deprecated and will be removed in a future version.\n",
      "  date_key = Timestamp(key, freq=base_index.freq)\n",
      "/Users/jitendrashirsat/opt/anaconda3/lib/python3.9/site-packages/statsmodels/tsa/base/tsa_model.py:132: FutureWarning: The 'freq' argument in Timestamp is deprecated and will be removed in a future version.\n",
      "  date_key = Timestamp(key, freq=base_index.freq)\n",
      "/Users/jitendrashirsat/opt/anaconda3/lib/python3.9/site-packages/statsmodels/tsa/base/tsa_model.py:132: FutureWarning: The 'freq' argument in Timestamp is deprecated and will be removed in a future version.\n",
      "  date_key = Timestamp(key, freq=base_index.freq)\n",
      "/Users/jitendrashirsat/opt/anaconda3/lib/python3.9/site-packages/statsmodels/tsa/base/tsa_model.py:132: FutureWarning: The 'freq' argument in Timestamp is deprecated and will be removed in a future version.\n",
      "  date_key = Timestamp(key, freq=base_index.freq)\n"
     ]
    },
    {
     "name": "stdout",
     "output_type": "stream",
     "text": [
      "Last seen: True\n",
      "Steps completed: 10\n"
     ]
    },
    {
     "name": "stderr",
     "output_type": "stream",
     "text": [
      "/Users/jitendrashirsat/opt/anaconda3/lib/python3.9/site-packages/statsmodels/tsa/base/tsa_model.py:132: FutureWarning: The 'freq' argument in Timestamp is deprecated and will be removed in a future version.\n",
      "  date_key = Timestamp(key, freq=base_index.freq)\n",
      "/Users/jitendrashirsat/opt/anaconda3/lib/python3.9/site-packages/statsmodels/tsa/base/tsa_model.py:132: FutureWarning: The 'freq' argument in Timestamp is deprecated and will be removed in a future version.\n",
      "  date_key = Timestamp(key, freq=base_index.freq)\n"
     ]
    },
    {
     "data": {
      "text/plain": [
       "2521.0321360892553"
      ]
     },
     "execution_count": 18,
     "metadata": {},
     "output_type": "execute_result"
    }
   ],
   "source": [
    "walkforward('add','add',False,'legacy-heuristic',0,debug=True)"
   ]
  },
  {
   "cell_type": "code",
   "execution_count": null,
   "id": "c5b18bb3-779f-4ef2-9fa3-0522f83c9243",
   "metadata": {},
   "outputs": [],
   "source": []
  },
  {
   "cell_type": "code",
   "execution_count": null,
   "id": "222ea17c-0954-4ce4-aeef-99e07afba5d5",
   "metadata": {},
   "outputs": [],
   "source": []
  },
  {
   "cell_type": "code",
   "execution_count": null,
   "id": "6f6ccf9f-202e-41fa-b08b-c5c04b60cf46",
   "metadata": {},
   "outputs": [],
   "source": []
  },
  {
   "cell_type": "code",
   "execution_count": null,
   "id": "05d53e51-8b05-4496-a35b-156c7a4aa528",
   "metadata": {},
   "outputs": [],
   "source": []
  },
  {
   "cell_type": "code",
   "execution_count": null,
   "id": "84a223a8-268d-48af-adba-4737997345db",
   "metadata": {},
   "outputs": [],
   "source": []
  },
  {
   "cell_type": "code",
   "execution_count": null,
   "id": "3afa4a8a-c64f-489a-82dd-1375eacc8d87",
   "metadata": {},
   "outputs": [],
   "source": []
  },
  {
   "cell_type": "code",
   "execution_count": null,
   "id": "c5a7d124-2c59-4ba3-8acf-1e9d92de530d",
   "metadata": {},
   "outputs": [],
   "source": []
  },
  {
   "cell_type": "code",
   "execution_count": null,
   "id": "75f14f1f-4142-4cba-8535-25dd6595b57d",
   "metadata": {},
   "outputs": [],
   "source": []
  }
 ],
 "metadata": {
  "kernelspec": {
   "display_name": "Python 3 (ipykernel)",
   "language": "python",
   "name": "python3"
  },
  "language_info": {
   "codemirror_mode": {
    "name": "ipython",
    "version": 3
   },
   "file_extension": ".py",
   "mimetype": "text/x-python",
   "name": "python",
   "nbconvert_exporter": "python",
   "pygments_lexer": "ipython3",
   "version": "3.9.7"
  }
 },
 "nbformat": 4,
 "nbformat_minor": 5
}
