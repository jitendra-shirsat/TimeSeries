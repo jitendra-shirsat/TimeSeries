{
 "cells": [
  {
   "cell_type": "code",
   "execution_count": 4,
   "id": "0f564528-5066-4fab-a02e-0adac9278a67",
   "metadata": {},
   "outputs": [],
   "source": [
    "import pandas as pd\n",
    "import numpy as np"
   ]
  },
  {
   "cell_type": "code",
   "execution_count": 5,
   "id": "490fb478-6f77-453a-aa1e-eb898e71449d",
   "metadata": {},
   "outputs": [],
   "source": [
    "df = pd.read_csv(r'C:\\Users\\sjmp1s\\OneDrive - Aptiv\\Documents\\Time_Series\\Lessons\\airline_passengers.csv' \\\n",
    "            ,index_col='Month',parse_dates=True)"
   ]
  },
  {
   "cell_type": "raw",
   "id": "85059c98-ac0e-4f30-9949-a60fbbaf3753",
   "metadata": {},
   "source": [
    "df"
   ]
  },
  {
   "cell_type": "code",
   "execution_count": null,
   "id": "c7e7a920-ad12-4c38-ad7c-61a800436e29",
   "metadata": {},
   "outputs": [],
   "source": []
  },
  {
   "cell_type": "code",
   "execution_count": null,
   "id": "0e75dc32-0e81-4aa0-bed0-8faeedfa8e11",
   "metadata": {},
   "outputs": [],
   "source": []
  },
  {
   "cell_type": "code",
   "execution_count": null,
   "id": "9e13a1c8-9303-421e-a194-1cbcf0ce0753",
   "metadata": {},
   "outputs": [],
   "source": []
  },
  {
   "cell_type": "code",
   "execution_count": null,
   "id": "5e46febf-ac2e-4d78-82ac-349eaf3aeb89",
   "metadata": {},
   "outputs": [],
   "source": []
  },
  {
   "cell_type": "code",
   "execution_count": null,
   "id": "a3c908ca-3ed2-4b1c-a682-55248b6cf732",
   "metadata": {},
   "outputs": [],
   "source": []
  },
  {
   "cell_type": "code",
   "execution_count": null,
   "id": "0b6fe953-1c5a-4691-bd99-e7b7ddc2bde5",
   "metadata": {},
   "outputs": [],
   "source": []
  },
  {
   "cell_type": "code",
   "execution_count": null,
   "id": "8164d655-b346-4599-82a0-6526a724a9e3",
   "metadata": {},
   "outputs": [],
   "source": []
  },
  {
   "cell_type": "code",
   "execution_count": null,
   "id": "9d925af9-84ba-4b0c-b1e0-e75938913a09",
   "metadata": {},
   "outputs": [],
   "source": []
  },
  {
   "cell_type": "code",
   "execution_count": null,
   "id": "555ca9c0-0d40-474f-9ca4-ec679f37852f",
   "metadata": {},
   "outputs": [],
   "source": []
  }
 ],
 "metadata": {
  "kernelspec": {
   "display_name": "Python 3 (ipykernel)",
   "language": "python",
   "name": "python3"
  },
  "language_info": {
   "codemirror_mode": {
    "name": "ipython",
    "version": 3
   },
   "file_extension": ".py",
   "mimetype": "text/x-python",
   "name": "python",
   "nbconvert_exporter": "python",
   "pygments_lexer": "ipython3",
   "version": "3.10.1"
  }
 },
 "nbformat": 4,
 "nbformat_minor": 5
}
