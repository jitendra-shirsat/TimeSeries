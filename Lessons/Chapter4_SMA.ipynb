{
 "cells": [
  {
   "cell_type": "code",
   "execution_count": 1,
   "id": "9afc62c9-7b86-4166-a3e3-38db9aef7dc9",
   "metadata": {},
   "outputs": [],
   "source": [
    "import numpy as np\n",
    "import matplotlib.pyplot as plt\n",
    "import pandas as pd"
   ]
  },
  {
   "cell_type": "code",
   "execution_count": 4,
   "id": "bf95a37c-ae83-46a9-9d58-51d7e933dbdf",
   "metadata": {},
   "outputs": [],
   "source": [
    "close = pd.read_csv(r'C:\\Users\\sjmp1s\\OneDrive - Aptiv\\Documents\\Time_Series\\Lessons\\sp500_close.csv' \\\n",
    "            ,index_col=0,parse_dates=True)"
   ]
  },
  {
   "cell_type": "code",
   "execution_count": 5,
   "id": "f9c5a8b0-690a-4bf5-9e72-619bc7d40000",
   "metadata": {},
   "outputs": [
    {
     "data": {
      "text/html": [
       "<div>\n",
       "<style scoped>\n",
       "    .dataframe tbody tr th:only-of-type {\n",
       "        vertical-align: middle;\n",
       "    }\n",
       "\n",
       "    .dataframe tbody tr th {\n",
       "        vertical-align: top;\n",
       "    }\n",
       "\n",
       "    .dataframe thead th {\n",
       "        text-align: right;\n",
       "    }\n",
       "</style>\n",
       "<table border=\"1\" class=\"dataframe\">\n",
       "  <thead>\n",
       "    <tr style=\"text-align: right;\">\n",
       "      <th></th>\n",
       "      <th>AAL</th>\n",
       "      <th>AAPL</th>\n",
       "      <th>AAP</th>\n",
       "      <th>ABBV</th>\n",
       "      <th>ABC</th>\n",
       "      <th>ABT</th>\n",
       "      <th>ACN</th>\n",
       "      <th>ADBE</th>\n",
       "      <th>ADI</th>\n",
       "      <th>ADM</th>\n",
       "      <th>...</th>\n",
       "      <th>XLNX</th>\n",
       "      <th>XL</th>\n",
       "      <th>XOM</th>\n",
       "      <th>XRAY</th>\n",
       "      <th>XRX</th>\n",
       "      <th>XYL</th>\n",
       "      <th>YUM</th>\n",
       "      <th>ZBH</th>\n",
       "      <th>ZION</th>\n",
       "      <th>ZTS</th>\n",
       "    </tr>\n",
       "  </thead>\n",
       "  <tbody>\n",
       "    <tr>\n",
       "      <th>2013-02-08</th>\n",
       "      <td>14.75</td>\n",
       "      <td>67.8542</td>\n",
       "      <td>78.90</td>\n",
       "      <td>36.25</td>\n",
       "      <td>46.89</td>\n",
       "      <td>34.41</td>\n",
       "      <td>73.31</td>\n",
       "      <td>39.12</td>\n",
       "      <td>45.70</td>\n",
       "      <td>30.22</td>\n",
       "      <td>...</td>\n",
       "      <td>37.51</td>\n",
       "      <td>28.24</td>\n",
       "      <td>88.61</td>\n",
       "      <td>42.87</td>\n",
       "      <td>31.84</td>\n",
       "      <td>27.09</td>\n",
       "      <td>65.30</td>\n",
       "      <td>75.85</td>\n",
       "      <td>24.14</td>\n",
       "      <td>33.05</td>\n",
       "    </tr>\n",
       "    <tr>\n",
       "      <th>2013-02-09</th>\n",
       "      <td>NaN</td>\n",
       "      <td>NaN</td>\n",
       "      <td>NaN</td>\n",
       "      <td>NaN</td>\n",
       "      <td>NaN</td>\n",
       "      <td>NaN</td>\n",
       "      <td>NaN</td>\n",
       "      <td>NaN</td>\n",
       "      <td>NaN</td>\n",
       "      <td>NaN</td>\n",
       "      <td>...</td>\n",
       "      <td>NaN</td>\n",
       "      <td>NaN</td>\n",
       "      <td>NaN</td>\n",
       "      <td>NaN</td>\n",
       "      <td>NaN</td>\n",
       "      <td>NaN</td>\n",
       "      <td>NaN</td>\n",
       "      <td>NaN</td>\n",
       "      <td>NaN</td>\n",
       "      <td>NaN</td>\n",
       "    </tr>\n",
       "    <tr>\n",
       "      <th>2013-02-10</th>\n",
       "      <td>NaN</td>\n",
       "      <td>NaN</td>\n",
       "      <td>NaN</td>\n",
       "      <td>NaN</td>\n",
       "      <td>NaN</td>\n",
       "      <td>NaN</td>\n",
       "      <td>NaN</td>\n",
       "      <td>NaN</td>\n",
       "      <td>NaN</td>\n",
       "      <td>NaN</td>\n",
       "      <td>...</td>\n",
       "      <td>NaN</td>\n",
       "      <td>NaN</td>\n",
       "      <td>NaN</td>\n",
       "      <td>NaN</td>\n",
       "      <td>NaN</td>\n",
       "      <td>NaN</td>\n",
       "      <td>NaN</td>\n",
       "      <td>NaN</td>\n",
       "      <td>NaN</td>\n",
       "      <td>NaN</td>\n",
       "    </tr>\n",
       "    <tr>\n",
       "      <th>2013-02-11</th>\n",
       "      <td>14.46</td>\n",
       "      <td>68.5614</td>\n",
       "      <td>78.39</td>\n",
       "      <td>35.85</td>\n",
       "      <td>46.76</td>\n",
       "      <td>34.26</td>\n",
       "      <td>73.07</td>\n",
       "      <td>38.64</td>\n",
       "      <td>46.08</td>\n",
       "      <td>30.28</td>\n",
       "      <td>...</td>\n",
       "      <td>37.46</td>\n",
       "      <td>28.31</td>\n",
       "      <td>88.28</td>\n",
       "      <td>42.84</td>\n",
       "      <td>31.96</td>\n",
       "      <td>27.46</td>\n",
       "      <td>64.55</td>\n",
       "      <td>75.65</td>\n",
       "      <td>24.21</td>\n",
       "      <td>33.26</td>\n",
       "    </tr>\n",
       "    <tr>\n",
       "      <th>2013-02-12</th>\n",
       "      <td>14.27</td>\n",
       "      <td>66.8428</td>\n",
       "      <td>78.60</td>\n",
       "      <td>35.42</td>\n",
       "      <td>46.96</td>\n",
       "      <td>34.30</td>\n",
       "      <td>73.37</td>\n",
       "      <td>38.89</td>\n",
       "      <td>46.27</td>\n",
       "      <td>30.81</td>\n",
       "      <td>...</td>\n",
       "      <td>37.58</td>\n",
       "      <td>28.41</td>\n",
       "      <td>88.46</td>\n",
       "      <td>42.87</td>\n",
       "      <td>31.84</td>\n",
       "      <td>27.95</td>\n",
       "      <td>64.75</td>\n",
       "      <td>75.44</td>\n",
       "      <td>24.49</td>\n",
       "      <td>33.74</td>\n",
       "    </tr>\n",
       "  </tbody>\n",
       "</table>\n",
       "<p>5 rows × 505 columns</p>\n",
       "</div>"
      ],
      "text/plain": [
       "              AAL     AAPL    AAP   ABBV    ABC    ABT    ACN   ADBE    ADI  \\\n",
       "2013-02-08  14.75  67.8542  78.90  36.25  46.89  34.41  73.31  39.12  45.70   \n",
       "2013-02-09    NaN      NaN    NaN    NaN    NaN    NaN    NaN    NaN    NaN   \n",
       "2013-02-10    NaN      NaN    NaN    NaN    NaN    NaN    NaN    NaN    NaN   \n",
       "2013-02-11  14.46  68.5614  78.39  35.85  46.76  34.26  73.07  38.64  46.08   \n",
       "2013-02-12  14.27  66.8428  78.60  35.42  46.96  34.30  73.37  38.89  46.27   \n",
       "\n",
       "              ADM  ...   XLNX     XL    XOM   XRAY    XRX    XYL    YUM  \\\n",
       "2013-02-08  30.22  ...  37.51  28.24  88.61  42.87  31.84  27.09  65.30   \n",
       "2013-02-09    NaN  ...    NaN    NaN    NaN    NaN    NaN    NaN    NaN   \n",
       "2013-02-10    NaN  ...    NaN    NaN    NaN    NaN    NaN    NaN    NaN   \n",
       "2013-02-11  30.28  ...  37.46  28.31  88.28  42.84  31.96  27.46  64.55   \n",
       "2013-02-12  30.81  ...  37.58  28.41  88.46  42.87  31.84  27.95  64.75   \n",
       "\n",
       "              ZBH   ZION    ZTS  \n",
       "2013-02-08  75.85  24.14  33.05  \n",
       "2013-02-09    NaN    NaN    NaN  \n",
       "2013-02-10    NaN    NaN    NaN  \n",
       "2013-02-11  75.65  24.21  33.26  \n",
       "2013-02-12  75.44  24.49  33.74  \n",
       "\n",
       "[5 rows x 505 columns]"
      ]
     },
     "execution_count": 5,
     "metadata": {},
     "output_type": "execute_result"
    }
   ],
   "source": [
    "close.head(5)"
   ]
  },
  {
   "cell_type": "code",
   "execution_count": 7,
   "id": "2cdaf65b-bc95-403c-a4c4-c7ac8cca6bf0",
   "metadata": {},
   "outputs": [],
   "source": [
    "goog = close[['GOOG']].copy().dropna()"
   ]
  },
  {
   "cell_type": "code",
   "execution_count": 8,
   "id": "15a5f831-9a01-4b95-8ae5-4279e9bcee96",
   "metadata": {},
   "outputs": [
    {
     "data": {
      "text/html": [
       "<div>\n",
       "<style scoped>\n",
       "    .dataframe tbody tr th:only-of-type {\n",
       "        vertical-align: middle;\n",
       "    }\n",
       "\n",
       "    .dataframe tbody tr th {\n",
       "        vertical-align: top;\n",
       "    }\n",
       "\n",
       "    .dataframe thead th {\n",
       "        text-align: right;\n",
       "    }\n",
       "</style>\n",
       "<table border=\"1\" class=\"dataframe\">\n",
       "  <thead>\n",
       "    <tr style=\"text-align: right;\">\n",
       "      <th></th>\n",
       "      <th>GOOG</th>\n",
       "    </tr>\n",
       "  </thead>\n",
       "  <tbody>\n",
       "    <tr>\n",
       "      <th>2014-03-27</th>\n",
       "      <td>558.46</td>\n",
       "    </tr>\n",
       "    <tr>\n",
       "      <th>2014-03-28</th>\n",
       "      <td>559.99</td>\n",
       "    </tr>\n",
       "    <tr>\n",
       "      <th>2014-03-31</th>\n",
       "      <td>556.97</td>\n",
       "    </tr>\n",
       "    <tr>\n",
       "      <th>2014-04-01</th>\n",
       "      <td>567.16</td>\n",
       "    </tr>\n",
       "    <tr>\n",
       "      <th>2014-04-02</th>\n",
       "      <td>567.00</td>\n",
       "    </tr>\n",
       "  </tbody>\n",
       "</table>\n",
       "</div>"
      ],
      "text/plain": [
       "              GOOG\n",
       "2014-03-27  558.46\n",
       "2014-03-28  559.99\n",
       "2014-03-31  556.97\n",
       "2014-04-01  567.16\n",
       "2014-04-02  567.00"
      ]
     },
     "execution_count": 8,
     "metadata": {},
     "output_type": "execute_result"
    }
   ],
   "source": [
    "goog.head()"
   ]
  },
  {
   "cell_type": "code",
   "execution_count": 10,
   "id": "f4b76d25-dbcc-470d-9f21-3baf59609450",
   "metadata": {},
   "outputs": [
    {
     "data": {
      "text/plain": [
       "<AxesSubplot:>"
      ]
     },
     "execution_count": 10,
     "metadata": {},
     "output_type": "execute_result"
    },
    {
     "data": {
      "image/png": "[encoded data removed]",
      "text/plain": [
       "<Figure size 432x288 with 1 Axes>"
      ]
     },
     "metadata": {
      "needs_background": "light"
     },
     "output_type": "display_data"
    }
   ],
   "source": [
    "goog.plot()"
   ]
  },
  {
   "cell_type": "code",
   "execution_count": null,
   "id": "5a5b2162-82b6-4bdc-94d7-417528749234",
   "metadata": {},
   "outputs": [],
   "source": []
  },
  {
   "cell_type": "code",
   "execution_count": null,
   "id": "ef89f07d-6b31-4cf3-acef-170f423d672e",
   "metadata": {},
   "outputs": [],
   "source": []
  },
  {
   "cell_type": "code",
   "execution_count": null,
   "id": "8b0520b8-2733-4d74-ac5f-da45159a20b6",
   "metadata": {},
   "outputs": [],
   "source": []
  },
  {
   "cell_type": "code",
   "execution_count": null,
   "id": "60686c2f-b0f0-421b-a05f-3451f7518678",
   "metadata": {},
   "outputs": [],
   "source": []
  }
 ],
 "metadata": {
  "kernelspec": {
   "display_name": "Python 3 (ipykernel)",
   "language": "python",
   "name": "python3"
  },
  "language_info": {
   "codemirror_mode": {
    "name": "ipython",
    "version": 3
   },
   "file_extension": ".py",
   "mimetype": "text/x-python",
   "name": "python",
   "nbconvert_exporter": "python",
   "pygments_lexer": "ipython3",
   "version": "3.10.1"
  }
 },
 "nbformat": 4,
 "nbformat_minor": 5
}
