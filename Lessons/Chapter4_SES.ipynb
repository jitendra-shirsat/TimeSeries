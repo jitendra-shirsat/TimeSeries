{
 "cells": [
  {
   "cell_type": "code",
   "execution_count": 1,
   "id": "2978da05-d3ea-4216-a468-d4a3f85536ca",
   "metadata": {},
   "outputs": [],
   "source": [
    "import pandas as pd\n",
    "import numpy as np"
   ]
  },
  {
   "cell_type": "code",
   "execution_count": 2,
   "id": "ee38440b-303e-4434-816c-4e17d9349c98",
   "metadata": {},
   "outputs": [],
   "source": [
    "df = pd.read_csv(r'C:\\Users\\sjmp1s\\OneDrive - Aptiv\\Documents\\Time_Series\\Lessons\\airline_passengers.csv' \\\n",
    "            ,index_col='Month',parse_dates=True)"
   ]
  },
  {
   "cell_type": "code",
   "execution_count": 3,
   "id": "5d4bf738-b873-45b2-9672-af10b444d075",
   "metadata": {},
   "outputs": [
    {
     "data": {
      "text/html": [
       "<div>\n",
       "<style scoped>\n",
       "    .dataframe tbody tr th:only-of-type {\n",
       "        vertical-align: middle;\n",
       "    }\n",
       "\n",
       "    .dataframe tbody tr th {\n",
       "        vertical-align: top;\n",
       "    }\n",
       "\n",
       "    .dataframe thead th {\n",
       "        text-align: right;\n",
       "    }\n",
       "</style>\n",
       "<table border=\"1\" class=\"dataframe\">\n",
       "  <thead>\n",
       "    <tr style=\"text-align: right;\">\n",
       "      <th></th>\n",
       "      <th>Passengers</th>\n",
       "    </tr>\n",
       "    <tr>\n",
       "      <th>Month</th>\n",
       "      <th></th>\n",
       "    </tr>\n",
       "  </thead>\n",
       "  <tbody>\n",
       "    <tr>\n",
       "      <th>1949-01-01</th>\n",
       "      <td>112</td>\n",
       "    </tr>\n",
       "    <tr>\n",
       "      <th>1949-02-01</th>\n",
       "      <td>118</td>\n",
       "    </tr>\n",
       "    <tr>\n",
       "      <th>1949-03-01</th>\n",
       "      <td>132</td>\n",
       "    </tr>\n",
       "    <tr>\n",
       "      <th>1949-04-01</th>\n",
       "      <td>129</td>\n",
       "    </tr>\n",
       "    <tr>\n",
       "      <th>1949-05-01</th>\n",
       "      <td>121</td>\n",
       "    </tr>\n",
       "  </tbody>\n",
       "</table>\n",
       "</div>"
      ],
      "text/plain": [
       "            Passengers\n",
       "Month                 \n",
       "1949-01-01         112\n",
       "1949-02-01         118\n",
       "1949-03-01         132\n",
       "1949-04-01         129\n",
       "1949-05-01         121"
      ]
     },
     "execution_count": 3,
     "metadata": {},
     "output_type": "execute_result"
    }
   ],
   "source": [
    "df.head(5)"
   ]
  },
  {
   "cell_type": "code",
   "execution_count": 12,
   "id": "d18e462e-6b24-4e39-ab2b-abc5b47ac6a4",
   "metadata": {},
   "outputs": [],
   "source": [
    "alpha = 0.2"
   ]
  },
  {
   "cell_type": "code",
   "execution_count": 4,
   "id": "9a137cbb-9157-4367-8eae-9f73d6a6de14",
   "metadata": {},
   "outputs": [
    {
     "data": {
      "text/plain": [
       "<AxesSubplot:xlabel='Month'>"
      ]
     },
     "execution_count": 4,
     "metadata": {},
     "output_type": "execute_result"
    },
    {
     "data": {
      "image/png": "[encoded data removed]",
      "text/plain": [
       "<Figure size 432x288 with 1 Axes>"
      ]
     },
     "metadata": {
      "needs_background": "light"
     },
     "output_type": "display_data"
    }
   ],
   "source": [
    "df.plot()"
   ]
  },
  {
   "cell_type": "code",
   "execution_count": null,
   "id": "a7cba851-9646-43b4-9c06-5286e00562b2",
   "metadata": {},
   "outputs": [],
   "source": [
    "!pip install -U statsmodels"
   ]
  },
  {
   "cell_type": "code",
   "execution_count": 7,
   "id": "729ceff1-9d12-441f-bf7a-8b83f144cb53",
   "metadata": {},
   "outputs": [],
   "source": [
    "from statsmodels.tsa.holtwinters import SimpleExpSmoothing"
   ]
  },
  {
   "cell_type": "code",
   "execution_count": 8,
   "id": "279c9c53-0661-466b-8de9-2c50a3541082",
   "metadata": {},
   "outputs": [
    {
     "name": "stderr",
     "output_type": "stream",
     "text": [
      "C:\\Users\\sjmp1s\\AppData\\Local\\Programs\\Python\\Python310\\lib\\site-packages\\statsmodels\\tsa\\base\\tsa_model.py:471: ValueWarning: No frequency information was provided, so inferred frequency MS will be used.\n",
      "  self._init_dates(dates, freq)\n"
     ]
    }
   ],
   "source": [
    "ses = SimpleExpSmoothing(df['Passengers'])"
   ]
  },
  {
   "cell_type": "code",
   "execution_count": 9,
   "id": "5a7a9cc9-8856-4df5-8081-6f02e64462a1",
   "metadata": {},
   "outputs": [
    {
     "data": {
      "text/plain": [
       "DatetimeIndex(['1949-01-01', '1949-02-01', '1949-03-01', '1949-04-01',\n",
       "               '1949-05-01', '1949-06-01', '1949-07-01', '1949-08-01',\n",
       "               '1949-09-01', '1949-10-01',\n",
       "               ...\n",
       "               '1960-03-01', '1960-04-01', '1960-05-01', '1960-06-01',\n",
       "               '1960-07-01', '1960-08-01', '1960-09-01', '1960-10-01',\n",
       "               '1960-11-01', '1960-12-01'],\n",
       "              dtype='datetime64[ns]', name='Month', length=144, freq=None)"
      ]
     },
     "execution_count": 9,
     "metadata": {},
     "output_type": "execute_result"
    }
   ],
   "source": [
    "df.index"
   ]
  },
  {
   "cell_type": "code",
   "execution_count": 10,
   "id": "33d918f1-ec04-4264-aaa1-5f099c1a3f38",
   "metadata": {},
   "outputs": [],
   "source": [
    "df.index.freq='MS'"
   ]
  },
  {
   "cell_type": "code",
   "execution_count": 11,
   "id": "747409d5-65f9-4038-b1dd-63159407f577",
   "metadata": {},
   "outputs": [],
   "source": [
    "ses = SimpleExpSmoothing(df['Passengers'],initialization_method='legacy-heuristic')"
   ]
  },
  {
   "cell_type": "code",
   "execution_count": 13,
   "id": "89c52845-49e7-4ffd-8ac2-d8fd06a662d4",
   "metadata": {},
   "outputs": [],
   "source": [
    "res = ses.fit(smoothing_level=alpha,optimized=False)"
   ]
  },
  {
   "cell_type": "code",
   "execution_count": 14,
   "id": "078b6208-f142-4806-a3c4-c790c35ce5a2",
   "metadata": {},
   "outputs": [
    {
     "data": {
      "text/plain": [
       "<statsmodels.tsa.holtwinters.results.HoltWintersResultsWrapper at 0x28d7f929450>"
      ]
     },
     "execution_count": 14,
     "metadata": {},
     "output_type": "execute_result"
    }
   ],
   "source": [
    "res"
   ]
  },
  {
   "cell_type": "code",
   "execution_count": 15,
   "id": "d3da63c2-b467-41f8-830c-b2a67c515d30",
   "metadata": {},
   "outputs": [
    {
     "data": {
      "text/plain": [
       "Month\n",
       "1949-01-01    112.000000\n",
       "1949-02-01    112.000000\n",
       "1949-03-01    113.200000\n",
       "1949-04-01    116.960000\n",
       "1949-05-01    119.368000\n",
       "                 ...    \n",
       "1960-08-01    488.767616\n",
       "1960-09-01    512.214093\n",
       "1960-10-01    511.371274\n",
       "1960-11-01    501.297019\n",
       "1960-12-01    479.037615\n",
       "Freq: MS, Length: 144, dtype: float64"
      ]
     },
     "execution_count": 15,
     "metadata": {},
     "output_type": "execute_result"
    }
   ],
   "source": [
    "res.predict(start=df.index[0],end=df.index[-1])"
   ]
  },
  {
   "cell_type": "code",
   "execution_count": 16,
   "id": "6fcb8400-4bfa-48a8-84ab-7b4a1f78bc89",
   "metadata": {},
   "outputs": [],
   "source": [
    "df['SES'] = res.predict(start=df.index[0],end=df.index[-1])"
   ]
  },
  {
   "cell_type": "code",
   "execution_count": 17,
   "id": "213e20ba-38c9-4c80-9fd3-89e8243a79a7",
   "metadata": {},
   "outputs": [
    {
     "data": {
      "text/plain": [
       "True"
      ]
     },
     "execution_count": 17,
     "metadata": {},
     "output_type": "execute_result"
    }
   ],
   "source": [
    "np.allclose(df['SES'],res.fittedvalues)"
   ]
  },
  {
   "cell_type": "code",
   "execution_count": 18,
   "id": "2313bcff-5eed-45a4-831a-5eefa92dcc03",
   "metadata": {},
   "outputs": [
    {
     "data": {
      "text/plain": [
       "<AxesSubplot:xlabel='Month'>"
      ]
     },
     "execution_count": 18,
     "metadata": {},
     "output_type": "execute_result"
    },
    {
     "data": {
      "image/png": "[encoded data removed]",
      "text/plain": [
       "<Figure size 432x288 with 1 Axes>"
      ]
     },
     "metadata": {
      "needs_background": "light"
     },
     "output_type": "display_data"
    }
   ],
   "source": [
    "df.plot()"
   ]
  },
  {
   "cell_type": "code",
   "execution_count": 19,
   "id": "bf58d1e8-9350-4b3e-bd9d-236b4f3e8622",
   "metadata": {},
   "outputs": [
    {
     "data": {
      "text/html": [
       "<div>\n",
       "<style scoped>\n",
       "    .dataframe tbody tr th:only-of-type {\n",
       "        vertical-align: middle;\n",
       "    }\n",
       "\n",
       "    .dataframe tbody tr th {\n",
       "        vertical-align: top;\n",
       "    }\n",
       "\n",
       "    .dataframe thead th {\n",
       "        text-align: right;\n",
       "    }\n",
       "</style>\n",
       "<table border=\"1\" class=\"dataframe\">\n",
       "  <thead>\n",
       "    <tr style=\"text-align: right;\">\n",
       "      <th></th>\n",
       "      <th>Passengers</th>\n",
       "      <th>SES</th>\n",
       "    </tr>\n",
       "    <tr>\n",
       "      <th>Month</th>\n",
       "      <th></th>\n",
       "      <th></th>\n",
       "    </tr>\n",
       "  </thead>\n",
       "  <tbody>\n",
       "    <tr>\n",
       "      <th>1949-01-01</th>\n",
       "      <td>112</td>\n",
       "      <td>112.000</td>\n",
       "    </tr>\n",
       "    <tr>\n",
       "      <th>1949-02-01</th>\n",
       "      <td>118</td>\n",
       "      <td>112.000</td>\n",
       "    </tr>\n",
       "    <tr>\n",
       "      <th>1949-03-01</th>\n",
       "      <td>132</td>\n",
       "      <td>113.200</td>\n",
       "    </tr>\n",
       "    <tr>\n",
       "      <th>1949-04-01</th>\n",
       "      <td>129</td>\n",
       "      <td>116.960</td>\n",
       "    </tr>\n",
       "    <tr>\n",
       "      <th>1949-05-01</th>\n",
       "      <td>121</td>\n",
       "      <td>119.368</td>\n",
       "    </tr>\n",
       "  </tbody>\n",
       "</table>\n",
       "</div>"
      ],
      "text/plain": [
       "            Passengers      SES\n",
       "Month                          \n",
       "1949-01-01         112  112.000\n",
       "1949-02-01         118  112.000\n",
       "1949-03-01         132  113.200\n",
       "1949-04-01         129  116.960\n",
       "1949-05-01         121  119.368"
      ]
     },
     "execution_count": 19,
     "metadata": {},
     "output_type": "execute_result"
    }
   ],
   "source": [
    "df.head()"
   ]
  },
  {
   "cell_type": "code",
   "execution_count": 20,
   "id": "37742803-f9b3-42ca-9d4c-797e546cebc2",
   "metadata": {},
   "outputs": [],
   "source": [
    "N_test = 12\n",
    "train = df.iloc[:-N_test]\n",
    "test = df.iloc[-N_test:]"
   ]
  },
  {
   "cell_type": "code",
   "execution_count": 27,
   "id": "63d5ebca-db1b-45df-825b-b8abf219c100",
   "metadata": {},
   "outputs": [],
   "source": [
    "ses = SimpleExpSmoothing(train['Passengers'],\n",
    "                        initialization_method='legacy-heuristic')\n",
    "res = ses.fit()"
   ]
  },
  {
   "cell_type": "code",
   "execution_count": 24,
   "id": "3ae62553-639b-487b-baa2-8770019383a3",
   "metadata": {},
   "outputs": [],
   "source": [
    "train_idx = df.index <= train.index[-1]\n",
    "test_idx = df.index > train.index[-1]"
   ]
  },
  {
   "cell_type": "code",
   "execution_count": 28,
   "id": "26dd9c52-28c7-4cee-ace6-2ec6e89ffb73",
   "metadata": {},
   "outputs": [
    {
     "data": {
      "text/plain": [
       "<AxesSubplot:xlabel='Month'>"
      ]
     },
     "execution_count": 28,
     "metadata": {},
     "output_type": "execute_result"
    },
    {
     "data": {
      "image/png": "[encoded data removed]",
      "text/plain": [
       "<Figure size 432x288 with 1 Axes>"
      ]
     },
     "metadata": {
      "needs_background": "light"
     },
     "output_type": "display_data"
    }
   ],
   "source": [
    "df.loc[train_idx,'SESFitted'] = res.fittedvalues\n",
    "df.loc[test_idx,'SESFitted'] = res.forecast(N_test)\n",
    "df[['Passengers','SESFitted']].plot()"
   ]
  },
  {
   "cell_type": "code",
   "execution_count": 30,
   "id": "cf60a813-b729-440f-86a0-0153b7ae6de3",
   "metadata": {},
   "outputs": [
    {
     "data": {
      "text/plain": [
       "{'smoothing_level': 0.995,\n",
       " 'smoothing_trend': nan,\n",
       " 'smoothing_seasonal': nan,\n",
       " 'damping_trend': nan,\n",
       " 'initial_level': 112.0,\n",
       " 'initial_trend': nan,\n",
       " 'initial_seasons': array([], dtype=float64),\n",
       " 'use_boxcox': False,\n",
       " 'lamda': None,\n",
       " 'remove_bias': False}"
      ]
     },
     "execution_count": 30,
     "metadata": {},
     "output_type": "execute_result"
    }
   ],
   "source": [
    "res.params"
   ]
  },
  {
   "cell_type": "code",
   "execution_count": null,
   "id": "1f7e2342-4731-486e-ba9e-e72e0ccf97b9",
   "metadata": {},
   "outputs": [],
   "source": []
  },
  {
   "cell_type": "code",
   "execution_count": null,
   "id": "e2205286-348a-48b4-b5e9-dc913f740074",
   "metadata": {},
   "outputs": [],
   "source": []
  },
  {
   "cell_type": "code",
   "execution_count": null,
   "id": "fc958892-a081-4921-bb5a-75440c19190a",
   "metadata": {},
   "outputs": [],
   "source": []
  },
  {
   "cell_type": "code",
   "execution_count": null,
   "id": "f384c2ee-1d33-44e2-bdd2-c573a214b3ea",
   "metadata": {},
   "outputs": [],
   "source": []
  },
  {
   "cell_type": "code",
   "execution_count": null,
   "id": "23c047c8-11a7-4abf-a1a7-05928a04ee2e",
   "metadata": {},
   "outputs": [],
   "source": []
  }
 ],
 "metadata": {
  "kernelspec": {
   "display_name": "Python 3 (ipykernel)",
   "language": "python",
   "name": "python3"
  },
  "language_info": {
   "codemirror_mode": {
    "name": "ipython",
    "version": 3
   },
   "file_extension": ".py",
   "mimetype": "text/x-python",
   "name": "python",
   "nbconvert_exporter": "python",
   "pygments_lexer": "ipython3",
   "version": "3.9.7"
  }
 },
 "nbformat": 4,
 "nbformat_minor": 5
}
