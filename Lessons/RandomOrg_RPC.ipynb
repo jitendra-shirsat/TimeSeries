{
 "cells": [
  {
   "cell_type": "code",
   "execution_count": 22,
   "id": "c7a18b3f-4319-4b66-8609-354c510ef043",
   "metadata": {},
   "outputs": [],
   "source": [
    "from rdoclient import RandomOrgClient\n",
    "import requests\n",
    "import json"
   ]
  },
  {
   "cell_type": "code",
   "execution_count": 19,
   "id": "b80cd813-187d-420a-8eba-b0279810e571",
   "metadata": {},
   "outputs": [
    {
     "name": "stdout",
     "output_type": "stream",
     "text": [
      "Found existing installation: jsonrpcclient 4.0.2\n",
      "Uninstalling jsonrpcclient-4.0.2:\n",
      "  Successfully uninstalled jsonrpcclient-4.0.2\n"
     ]
    }
   ],
   "source": []
  },
  {
   "cell_type": "code",
   "execution_count": 6,
   "id": "b7654766-c09a-49a7-8a98-8d1dc7f191c7",
   "metadata": {},
   "outputs": [],
   "source": [
    "apiKey = '53aa0839-da83-47b8-aa4e-0f0f9d639649'\n",
    "apiURL = 'https://api.random.org/json-rpc/4/invoke'"
   ]
  },
  {
   "cell_type": "code",
   "execution_count": 23,
   "id": "51bb5c32-e70f-4e2a-9ea5-2a9534f59197",
   "metadata": {},
   "outputs": [],
   "source": [
    "headers = {'content-type': 'application/json'}"
   ]
  },
  {
   "cell_type": "code",
   "execution_count": 55,
   "id": "52b415e4-0983-4425-9bb8-1d58cb63e541",
   "metadata": {},
   "outputs": [],
   "source": [
    "lowerboundKey = 1\n",
    "upperboundKey = 10737573\n",
    "lowerboundTotal = 100\n",
    "upperboundTotal = 200\n",
    "\n",
    "dictJsonRPCKeyID = {\n",
    "    \"jsonrpc\": \"2.0\",\n",
    "    \"method\": \"generateIntegers\",\n",
    "    \"params\": {\n",
    "            \"apiKey\": apiKey,\n",
    "            \"n\": 18,\n",
    "            \"min\": lowerboundKey,\n",
    "            \"max\": upperboundKey,\n",
    "            \"replacement\": False\n",
    "            },\n",
    "        \"id\": 42\n",
    "        }\n",
    "\n",
    "dictJsonRPCSum = {\n",
    "    \"jsonrpc\": \"2.0\",\n",
    "    \"method\": \"generateIntegers\",\n",
    "    \"params\": {\n",
    "            \"apiKey\": apiKey,\n",
    "            \"n\": 18,\n",
    "            \"min\": lowerboundTotal,\n",
    "            \"max\": upperboundTotal,\n",
    "            \"replacement\": False\n",
    "            },\n",
    "            \"id\": 43\n",
    "                }"
   ]
  },
  {
   "cell_type": "code",
   "execution_count": 56,
   "id": "5737e100-b3db-4b14-81b9-7bdc6f9495e9",
   "metadata": {},
   "outputs": [],
   "source": [
    "\n",
    "try:\n",
    "\n",
    "    responseKeyID = requests.post(\n",
    "                    apiURL, data=json.dumps(dictJsonRPCKeyID), headers=headers).json()\n",
    "    responseSum = requests.post(\n",
    "                    apiURL, data=json.dumps(dictJsonRPCSum), headers=headers).json()\n",
    "    \n",
    "except requests.exceptions.BaseHTTPError as BaseHTTPError:\n",
    "    print(f'Base HTTP error occured {BaseHTTPError}')\n",
    "\n",
    "except requests.exceptions.ConnectionError as ConnectionError:\n",
    "    print(f'Base HTTP error occured {ConnectionError}')\n",
    "\n",
    "except requests.exceptions.ConnectTimeout as ConnectTimeout:\n",
    "    print(f'Base HTTP error occured {ConnectTimeout}')\n",
    "\n",
    "except requests.exceptions.InvalidHeader as InvalidHeader:\n",
    "    print(f'Base HTTP error occured {InvalidHeader}')\n",
    "\n",
    "\n"
   ]
  },
  {
   "cell_type": "code",
   "execution_count": 57,
   "id": "95ea6b2a-cf20-4509-86fb-f7e9d1d13cd2",
   "metadata": {},
   "outputs": [
    {
     "data": {
      "text/plain": [
       "{'jsonrpc': '2.0',\n",
       " 'result': {'random': {'data': [10110375,\n",
       "    10245323,\n",
       "    1786493,\n",
       "    204593,\n",
       "    9030827,\n",
       "    3178952,\n",
       "    3365427,\n",
       "    3037405,\n",
       "    9366462,\n",
       "    6140581,\n",
       "    8285031,\n",
       "    7367217,\n",
       "    8450793,\n",
       "    10321977,\n",
       "    6093437,\n",
       "    1781729,\n",
       "    5781554,\n",
       "    4843431],\n",
       "   'completionTime': '2022-07-10 13:20:24Z'},\n",
       "  'bitsUsed': 420,\n",
       "  'bitsLeft': 999998908,\n",
       "  'requestsLeft': 999983,\n",
       "  'advisoryDelay': 710},\n",
       " 'id': 42}"
      ]
     },
     "execution_count": 57,
     "metadata": {},
     "output_type": "execute_result"
    }
   ],
   "source": [
    "responseKeyID"
   ]
  },
  {
   "cell_type": "code",
   "execution_count": 31,
   "id": "2bd59eb7-258a-4e1f-a95b-3145acf88206",
   "metadata": {},
   "outputs": [
    {
     "data": {
      "text/plain": [
       "[5, 2, 6, 3, 4, 1]"
      ]
     },
     "execution_count": 31,
     "metadata": {},
     "output_type": "execute_result"
    }
   ],
   "source": [
    "response[\"result\"][\"random\"][\"data\"]"
   ]
  },
  {
   "cell_type": "code",
   "execution_count": 43,
   "id": "a07d7552-1ae9-4b79-bf33-f09ba1e5028c",
   "metadata": {},
   "outputs": [
    {
     "name": "stdout",
     "output_type": "stream",
     "text": [
      "There was NO error\n"
     ]
    }
   ],
   "source": [
    "if \"error\" in response:\n",
    "    print(f'There was error')\n",
    "else:\n",
    "    print(f'There was NO error')"
   ]
  },
  {
   "cell_type": "code",
   "execution_count": null,
   "id": "b04e6664-ff81-451c-9977-a99d0e498434",
   "metadata": {},
   "outputs": [],
   "source": []
  },
  {
   "cell_type": "code",
   "execution_count": null,
   "id": "fe6d4c6a-475f-4f2c-bfa1-6d5d92b0d8c8",
   "metadata": {},
   "outputs": [],
   "source": []
  },
  {
   "cell_type": "code",
   "execution_count": null,
   "id": "8022c6cf-5440-4cbb-899e-79c5dd34b3ea",
   "metadata": {},
   "outputs": [],
   "source": []
  }
 ],
 "metadata": {
  "kernelspec": {
   "display_name": "Python 3 (ipykernel)",
   "language": "python",
   "name": "python3"
  },
  "language_info": {
   "codemirror_mode": {
    "name": "ipython",
    "version": 3
   },
   "file_extension": ".py",
   "mimetype": "text/x-python",
   "name": "python",
   "nbconvert_exporter": "python",
   "pygments_lexer": "ipython3",
   "version": "3.9.7"
  }
 },
 "nbformat": 4,
 "nbformat_minor": 5
}
