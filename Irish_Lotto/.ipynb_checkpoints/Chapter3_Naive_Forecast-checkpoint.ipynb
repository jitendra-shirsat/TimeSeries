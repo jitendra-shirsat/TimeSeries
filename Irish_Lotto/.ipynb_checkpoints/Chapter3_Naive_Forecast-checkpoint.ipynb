{
 "cells": [
  {
   "cell_type": "code",
   "execution_count": 2,
   "id": "f0a07f21-5d34-4a33-b106-81e340c1064d",
   "metadata": {
    "tags": []
   },
   "outputs": [],
   "source": [
    "import numpy as np\n",
    "import pandas as pd"
   ]
  },
  {
   "cell_type": "code",
   "execution_count": 3,
   "id": "f408f594-bad7-4f81-abea-858984a71c47",
   "metadata": {},
   "outputs": [],
   "source": [
    "from sklearn.metrics import mean_absolute_percentage_error, \\\n",
    "mean_absolute_error, r2_score,mean_squared_error"
   ]
  },
  {
   "cell_type": "code",
   "execution_count": 4,
   "id": "67476693-1cad-4728-8ab8-ecafa8396320",
   "metadata": {},
   "outputs": [],
   "source": [
    "df = pd.read_csv(r'/Users/jitendrashirsat/Documents/Time-Series/TimeSeries/Last_Five_years_Lotto.csv'\\\n",
    "                ,index_col='RDate',parse_dates=True)"
   ]
  },
  {
   "cell_type": "code",
   "execution_count": 5,
   "id": "0aef3a39-15cd-4298-8df6-6d8f16df6d35",
   "metadata": {},
   "outputs": [
    {
     "data": {
      "text/html": [
       "<div>\n",
       "<style scoped>\n",
       "    .dataframe tbody tr th:only-of-type {\n",
       "        vertical-align: middle;\n",
       "    }\n",
       "\n",
       "    .dataframe tbody tr th {\n",
       "        vertical-align: top;\n",
       "    }\n",
       "\n",
       "    .dataframe thead th {\n",
       "        text-align: right;\n",
       "    }\n",
       "</style>\n",
       "<table border=\"1\" class=\"dataframe\">\n",
       "  <thead>\n",
       "    <tr style=\"text-align: right;\">\n",
       "      <th></th>\n",
       "      <th>Key_id</th>\n",
       "      <th>First_P</th>\n",
       "      <th>Second_P</th>\n",
       "      <th>Third_P</th>\n",
       "      <th>Fourth_P</th>\n",
       "      <th>Fifth_P</th>\n",
       "      <th>Sixth_P</th>\n",
       "      <th>Result</th>\n",
       "      <th>Total</th>\n",
       "      <th>Product</th>\n",
       "    </tr>\n",
       "    <tr>\n",
       "      <th>RDate</th>\n",
       "      <th></th>\n",
       "      <th></th>\n",
       "      <th></th>\n",
       "      <th></th>\n",
       "      <th></th>\n",
       "      <th></th>\n",
       "      <th></th>\n",
       "      <th></th>\n",
       "      <th></th>\n",
       "      <th></th>\n",
       "    </tr>\n",
       "  </thead>\n",
       "  <tbody>\n",
       "    <tr>\n",
       "      <th>2016-01-02</th>\n",
       "      <td>8302779</td>\n",
       "      <td>10</td>\n",
       "      <td>19</td>\n",
       "      <td>23</td>\n",
       "      <td>28</td>\n",
       "      <td>31</td>\n",
       "      <td>32</td>\n",
       "      <td>Roll</td>\n",
       "      <td>143</td>\n",
       "      <td>121381120</td>\n",
       "    </tr>\n",
       "    <tr>\n",
       "      <th>2016-01-06</th>\n",
       "      <td>2383816</td>\n",
       "      <td>2</td>\n",
       "      <td>15</td>\n",
       "      <td>25</td>\n",
       "      <td>43</td>\n",
       "      <td>45</td>\n",
       "      <td>46</td>\n",
       "      <td>Roll</td>\n",
       "      <td>176</td>\n",
       "      <td>66757500</td>\n",
       "    </tr>\n",
       "    <tr>\n",
       "      <th>2016-01-09</th>\n",
       "      <td>2173466</td>\n",
       "      <td>2</td>\n",
       "      <td>11</td>\n",
       "      <td>14</td>\n",
       "      <td>28</td>\n",
       "      <td>29</td>\n",
       "      <td>34</td>\n",
       "      <td>Roll</td>\n",
       "      <td>118</td>\n",
       "      <td>8503264</td>\n",
       "    </tr>\n",
       "    <tr>\n",
       "      <th>2016-01-13</th>\n",
       "      <td>8169338</td>\n",
       "      <td>10</td>\n",
       "      <td>14</td>\n",
       "      <td>26</td>\n",
       "      <td>37</td>\n",
       "      <td>42</td>\n",
       "      <td>47</td>\n",
       "      <td>Roll</td>\n",
       "      <td>176</td>\n",
       "      <td>265858320</td>\n",
       "    </tr>\n",
       "    <tr>\n",
       "      <th>2016-01-16</th>\n",
       "      <td>9502701</td>\n",
       "      <td>14</td>\n",
       "      <td>18</td>\n",
       "      <td>25</td>\n",
       "      <td>27</td>\n",
       "      <td>33</td>\n",
       "      <td>44</td>\n",
       "      <td>Roll</td>\n",
       "      <td>161</td>\n",
       "      <td>246985200</td>\n",
       "    </tr>\n",
       "  </tbody>\n",
       "</table>\n",
       "</div>"
      ],
      "text/plain": [
       "             Key_id  First_P  Second_P  Third_P  Fourth_P  Fifth_P  Sixth_P  \\\n",
       "RDate                                                                         \n",
       "2016-01-02  8302779       10        19       23        28       31       32   \n",
       "2016-01-06  2383816        2        15       25        43       45       46   \n",
       "2016-01-09  2173466        2        11       14        28       29       34   \n",
       "2016-01-13  8169338       10        14       26        37       42       47   \n",
       "2016-01-16  9502701       14        18       25        27       33       44   \n",
       "\n",
       "           Result  Total    Product  \n",
       "RDate                                \n",
       "2016-01-02   Roll    143  121381120  \n",
       "2016-01-06   Roll    176   66757500  \n",
       "2016-01-09   Roll    118    8503264  \n",
       "2016-01-13   Roll    176  265858320  \n",
       "2016-01-16   Roll    161  246985200  "
      ]
     },
     "execution_count": 5,
     "metadata": {},
     "output_type": "execute_result"
    }
   ],
   "source": [
    "df.head(5)"
   ]
  },
  {
   "cell_type": "code",
   "execution_count": 6,
   "id": "04193040-be8a-419e-b2fb-96b42244c145",
   "metadata": {},
   "outputs": [],
   "source": [
    "df['TotalPrediction'] = df['Total'].shift(1)"
   ]
  },
  {
   "cell_type": "code",
   "execution_count": 7,
   "id": "347ec1ce-d7ff-4a3b-9a9f-210fe2e08796",
   "metadata": {},
   "outputs": [
    {
     "data": {
      "text/html": [
       "<div>\n",
       "<style scoped>\n",
       "    .dataframe tbody tr th:only-of-type {\n",
       "        vertical-align: middle;\n",
       "    }\n",
       "\n",
       "    .dataframe tbody tr th {\n",
       "        vertical-align: top;\n",
       "    }\n",
       "\n",
       "    .dataframe thead th {\n",
       "        text-align: right;\n",
       "    }\n",
       "</style>\n",
       "<table border=\"1\" class=\"dataframe\">\n",
       "  <thead>\n",
       "    <tr style=\"text-align: right;\">\n",
       "      <th></th>\n",
       "      <th>Key_id</th>\n",
       "      <th>First_P</th>\n",
       "      <th>Second_P</th>\n",
       "      <th>Third_P</th>\n",
       "      <th>Fourth_P</th>\n",
       "      <th>Fifth_P</th>\n",
       "      <th>Sixth_P</th>\n",
       "      <th>Result</th>\n",
       "      <th>Total</th>\n",
       "      <th>Product</th>\n",
       "      <th>TotalPrediction</th>\n",
       "    </tr>\n",
       "    <tr>\n",
       "      <th>RDate</th>\n",
       "      <th></th>\n",
       "      <th></th>\n",
       "      <th></th>\n",
       "      <th></th>\n",
       "      <th></th>\n",
       "      <th></th>\n",
       "      <th></th>\n",
       "      <th></th>\n",
       "      <th></th>\n",
       "      <th></th>\n",
       "      <th></th>\n",
       "    </tr>\n",
       "  </thead>\n",
       "  <tbody>\n",
       "    <tr>\n",
       "      <th>2016-01-02</th>\n",
       "      <td>8302779</td>\n",
       "      <td>10</td>\n",
       "      <td>19</td>\n",
       "      <td>23</td>\n",
       "      <td>28</td>\n",
       "      <td>31</td>\n",
       "      <td>32</td>\n",
       "      <td>Roll</td>\n",
       "      <td>143</td>\n",
       "      <td>121381120</td>\n",
       "      <td>NaN</td>\n",
       "    </tr>\n",
       "    <tr>\n",
       "      <th>2016-01-06</th>\n",
       "      <td>2383816</td>\n",
       "      <td>2</td>\n",
       "      <td>15</td>\n",
       "      <td>25</td>\n",
       "      <td>43</td>\n",
       "      <td>45</td>\n",
       "      <td>46</td>\n",
       "      <td>Roll</td>\n",
       "      <td>176</td>\n",
       "      <td>66757500</td>\n",
       "      <td>143.0</td>\n",
       "    </tr>\n",
       "    <tr>\n",
       "      <th>2016-01-09</th>\n",
       "      <td>2173466</td>\n",
       "      <td>2</td>\n",
       "      <td>11</td>\n",
       "      <td>14</td>\n",
       "      <td>28</td>\n",
       "      <td>29</td>\n",
       "      <td>34</td>\n",
       "      <td>Roll</td>\n",
       "      <td>118</td>\n",
       "      <td>8503264</td>\n",
       "      <td>176.0</td>\n",
       "    </tr>\n",
       "    <tr>\n",
       "      <th>2016-01-13</th>\n",
       "      <td>8169338</td>\n",
       "      <td>10</td>\n",
       "      <td>14</td>\n",
       "      <td>26</td>\n",
       "      <td>37</td>\n",
       "      <td>42</td>\n",
       "      <td>47</td>\n",
       "      <td>Roll</td>\n",
       "      <td>176</td>\n",
       "      <td>265858320</td>\n",
       "      <td>118.0</td>\n",
       "    </tr>\n",
       "    <tr>\n",
       "      <th>2016-01-16</th>\n",
       "      <td>9502701</td>\n",
       "      <td>14</td>\n",
       "      <td>18</td>\n",
       "      <td>25</td>\n",
       "      <td>27</td>\n",
       "      <td>33</td>\n",
       "      <td>44</td>\n",
       "      <td>Roll</td>\n",
       "      <td>161</td>\n",
       "      <td>246985200</td>\n",
       "      <td>176.0</td>\n",
       "    </tr>\n",
       "  </tbody>\n",
       "</table>\n",
       "</div>"
      ],
      "text/plain": [
       "             Key_id  First_P  Second_P  Third_P  Fourth_P  Fifth_P  Sixth_P  \\\n",
       "RDate                                                                         \n",
       "2016-01-02  8302779       10        19       23        28       31       32   \n",
       "2016-01-06  2383816        2        15       25        43       45       46   \n",
       "2016-01-09  2173466        2        11       14        28       29       34   \n",
       "2016-01-13  8169338       10        14       26        37       42       47   \n",
       "2016-01-16  9502701       14        18       25        27       33       44   \n",
       "\n",
       "           Result  Total    Product  TotalPrediction  \n",
       "RDate                                                 \n",
       "2016-01-02   Roll    143  121381120              NaN  \n",
       "2016-01-06   Roll    176   66757500            143.0  \n",
       "2016-01-09   Roll    118    8503264            176.0  \n",
       "2016-01-13   Roll    176  265858320            118.0  \n",
       "2016-01-16   Roll    161  246985200            176.0  "
      ]
     },
     "execution_count": 7,
     "metadata": {},
     "output_type": "execute_result"
    }
   ],
   "source": [
    "df.head(5)"
   ]
  },
  {
   "cell_type": "code",
   "execution_count": 8,
   "id": "42bac76b-e923-41f9-a851-f08969e2543b",
   "metadata": {},
   "outputs": [],
   "source": [
    "y_true = df.iloc[1:]['Total']\n",
    "y_pred = df.iloc[1:]['TotalPrediction']"
   ]
  },
  {
   "cell_type": "code",
   "execution_count": 9,
   "id": "a2be5270-0a7a-494b-bf9b-80821ec7f8c6",
   "metadata": {},
   "outputs": [
    {
     "data": {
      "text/plain": [
       "RDate\n",
       "2016-01-06    176\n",
       "2016-01-09    118\n",
       "2016-01-13    176\n",
       "2016-01-16    161\n",
       "2016-01-20    105\n",
       "Name: Total, dtype: int64"
      ]
     },
     "execution_count": 9,
     "metadata": {},
     "output_type": "execute_result"
    }
   ],
   "source": [
    "y_true.head(5)"
   ]
  },
  {
   "cell_type": "code",
   "execution_count": 10,
   "id": "9e2771dc-dd5a-4c8e-b207-e09128d832ed",
   "metadata": {},
   "outputs": [
    {
     "data": {
      "text/plain": [
       "RDate\n",
       "2016-01-06    143.0\n",
       "2016-01-09    176.0\n",
       "2016-01-13    118.0\n",
       "2016-01-16    176.0\n",
       "2016-01-20    161.0\n",
       "Name: TotalPrediction, dtype: float64"
      ]
     },
     "execution_count": 10,
     "metadata": {},
     "output_type": "execute_result"
    }
   ],
   "source": [
    "y_pred.head(5)"
   ]
  },
  {
   "cell_type": "code",
   "execution_count": 11,
   "id": "7a9614e5-201b-4f0d-8def-dae78e264d0c",
   "metadata": {},
   "outputs": [
    {
     "data": {
      "text/plain": [
       "1328612.0"
      ]
     },
     "execution_count": 11,
     "metadata": {},
     "output_type": "execute_result"
    }
   ],
   "source": [
    "# SSE\n",
    "(y_true-y_pred).dot(y_true-y_pred)"
   ]
  },
  {
   "cell_type": "code",
   "execution_count": 12,
   "id": "11460a3f-e05d-44f7-a19f-6b42c9a4baa6",
   "metadata": {},
   "outputs": [
    {
     "data": {
      "text/plain": [
       "1962.4992614475627"
      ]
     },
     "execution_count": 12,
     "metadata": {},
     "output_type": "execute_result"
    }
   ],
   "source": [
    "# MSE\n",
    "mean_squared_error(y_true,y_pred)"
   ]
  },
  {
   "cell_type": "code",
   "execution_count": 13,
   "id": "e6d5b75a-29fa-4f73-b614-08c0e9498ab6",
   "metadata": {},
   "outputs": [
    {
     "data": {
      "text/plain": [
       "44.30010453088754"
      ]
     },
     "execution_count": 13,
     "metadata": {},
     "output_type": "execute_result"
    }
   ],
   "source": [
    "# RMSE\n",
    "mean_squared_error(y_true,y_pred,squared=False)"
   ]
  },
  {
   "cell_type": "code",
   "execution_count": 14,
   "id": "745a5ec6-97a1-47fb-b9b5-a685e089fe3d",
   "metadata": {},
   "outputs": [
    {
     "data": {
      "text/plain": [
       "35.288035450516986"
      ]
     },
     "execution_count": 14,
     "metadata": {},
     "output_type": "execute_result"
    }
   ],
   "source": [
    "# MAE\n",
    "mean_absolute_error(y_true,y_pred)"
   ]
  },
  {
   "cell_type": "code",
   "execution_count": 15,
   "id": "fb1d6862-dbf5-4393-a933-a27722c3546f",
   "metadata": {},
   "outputs": [
    {
     "data": {
      "text/plain": [
       "-1.033739897117448"
      ]
     },
     "execution_count": 15,
     "metadata": {},
     "output_type": "execute_result"
    }
   ],
   "source": [
    "# R^2\n",
    "r2_score(y_true,y_pred)"
   ]
  },
  {
   "cell_type": "code",
   "execution_count": 16,
   "id": "94fbc2f3-ae3e-4705-bc49-63bfa2d7d2ce",
   "metadata": {},
   "outputs": [
    {
     "data": {
      "text/plain": [
       "0.261679992154968"
      ]
     },
     "execution_count": 16,
     "metadata": {},
     "output_type": "execute_result"
    }
   ],
   "source": [
    "# MAPE\n",
    "mean_absolute_percentage_error(y_true,y_pred)"
   ]
  },
  {
   "cell_type": "code",
   "execution_count": 17,
   "id": "a1e3669f-9479-4a5c-b1b9-fa747786f6ad",
   "metadata": {},
   "outputs": [],
   "source": [
    "def smape(y_true, y_pred):\n",
    "    numerator = np.abs(y_true-y_pred)\n",
    "    denominator = (np.abs(y_true) + np.abs(y_pred))/2\n",
    "    ratio = numerator/denominator\n",
    "    return ratio.mean()"
   ]
  },
  {
   "cell_type": "code",
   "execution_count": 18,
   "id": "1fa2862e-a00b-4ac1-91f6-a84bcc9f3d30",
   "metadata": {},
   "outputs": [
    {
     "data": {
      "text/plain": [
       "0.24618174076650404"
      ]
     },
     "execution_count": 18,
     "metadata": {},
     "output_type": "execute_result"
    }
   ],
   "source": [
    "smape(y_true,y_pred)"
   ]
  },
  {
   "cell_type": "code",
   "execution_count": null,
   "id": "df3a7945-9f27-4fc5-9fb5-ca39e429ed7e",
   "metadata": {},
   "outputs": [],
   "source": []
  }
 ],
 "metadata": {
  "kernelspec": {
   "display_name": "Python 3 (ipykernel)",
   "language": "python",
   "name": "python3"
  },
  "language_info": {
   "codemirror_mode": {
    "name": "ipython",
    "version": 3
   },
   "file_extension": ".py",
   "mimetype": "text/x-python",
   "name": "python",
   "nbconvert_exporter": "python",
   "pygments_lexer": "ipython3",
   "version": "3.9.7"
  }
 },
 "nbformat": 4,
 "nbformat_minor": 5
}
