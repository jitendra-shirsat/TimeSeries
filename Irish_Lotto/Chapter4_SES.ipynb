{
 "cells": [
  {
   "cell_type": "code",
   "execution_count": 13,
   "id": "984b5607-5687-4b35-9537-abb42e0c10fc",
   "metadata": {},
   "outputs": [],
   "source": [
    "import pandas as pd\n",
    "import numpy as np\n",
    "from pandas.tseries.offsets import CustomBusinessDay"
   ]
  },
  {
   "cell_type": "code",
   "execution_count": 3,
   "id": "eeccc23b-28e4-4b51-b003-56b8f2808900",
   "metadata": {},
   "outputs": [],
   "source": [
    "df = pd.read_csv(r'/Users/jitendrashirsat/Documents/Time-Series/TimeSeries/Last_Five_years_Lotto.csv'\\\n",
    "                ,index_col='RDate',parse_dates=True)"
   ]
  },
  {
   "cell_type": "code",
   "execution_count": 4,
   "id": "64563842-5e7e-4967-8332-70d518a302b0",
   "metadata": {},
   "outputs": [
    {
     "data": {
      "text/html": [
       "<div>\n",
       "<style scoped>\n",
       "    .dataframe tbody tr th:only-of-type {\n",
       "        vertical-align: middle;\n",
       "    }\n",
       "\n",
       "    .dataframe tbody tr th {\n",
       "        vertical-align: top;\n",
       "    }\n",
       "\n",
       "    .dataframe thead th {\n",
       "        text-align: right;\n",
       "    }\n",
       "</style>\n",
       "<table border=\"1\" class=\"dataframe\">\n",
       "  <thead>\n",
       "    <tr style=\"text-align: right;\">\n",
       "      <th></th>\n",
       "      <th>Key_id</th>\n",
       "      <th>First_P</th>\n",
       "      <th>Second_P</th>\n",
       "      <th>Third_P</th>\n",
       "      <th>Fourth_P</th>\n",
       "      <th>Fifth_P</th>\n",
       "      <th>Sixth_P</th>\n",
       "      <th>Result</th>\n",
       "      <th>Total</th>\n",
       "      <th>Product</th>\n",
       "    </tr>\n",
       "    <tr>\n",
       "      <th>RDate</th>\n",
       "      <th></th>\n",
       "      <th></th>\n",
       "      <th></th>\n",
       "      <th></th>\n",
       "      <th></th>\n",
       "      <th></th>\n",
       "      <th></th>\n",
       "      <th></th>\n",
       "      <th></th>\n",
       "      <th></th>\n",
       "    </tr>\n",
       "  </thead>\n",
       "  <tbody>\n",
       "    <tr>\n",
       "      <th>2016-01-02</th>\n",
       "      <td>8302779</td>\n",
       "      <td>10</td>\n",
       "      <td>19</td>\n",
       "      <td>23</td>\n",
       "      <td>28</td>\n",
       "      <td>31</td>\n",
       "      <td>32</td>\n",
       "      <td>Roll</td>\n",
       "      <td>143</td>\n",
       "      <td>121381120</td>\n",
       "    </tr>\n",
       "    <tr>\n",
       "      <th>2016-01-06</th>\n",
       "      <td>2383816</td>\n",
       "      <td>2</td>\n",
       "      <td>15</td>\n",
       "      <td>25</td>\n",
       "      <td>43</td>\n",
       "      <td>45</td>\n",
       "      <td>46</td>\n",
       "      <td>Roll</td>\n",
       "      <td>176</td>\n",
       "      <td>66757500</td>\n",
       "    </tr>\n",
       "    <tr>\n",
       "      <th>2016-01-09</th>\n",
       "      <td>2173466</td>\n",
       "      <td>2</td>\n",
       "      <td>11</td>\n",
       "      <td>14</td>\n",
       "      <td>28</td>\n",
       "      <td>29</td>\n",
       "      <td>34</td>\n",
       "      <td>Roll</td>\n",
       "      <td>118</td>\n",
       "      <td>8503264</td>\n",
       "    </tr>\n",
       "    <tr>\n",
       "      <th>2016-01-13</th>\n",
       "      <td>8169338</td>\n",
       "      <td>10</td>\n",
       "      <td>14</td>\n",
       "      <td>26</td>\n",
       "      <td>37</td>\n",
       "      <td>42</td>\n",
       "      <td>47</td>\n",
       "      <td>Roll</td>\n",
       "      <td>176</td>\n",
       "      <td>265858320</td>\n",
       "    </tr>\n",
       "    <tr>\n",
       "      <th>2016-01-16</th>\n",
       "      <td>9502701</td>\n",
       "      <td>14</td>\n",
       "      <td>18</td>\n",
       "      <td>25</td>\n",
       "      <td>27</td>\n",
       "      <td>33</td>\n",
       "      <td>44</td>\n",
       "      <td>Roll</td>\n",
       "      <td>161</td>\n",
       "      <td>246985200</td>\n",
       "    </tr>\n",
       "  </tbody>\n",
       "</table>\n",
       "</div>"
      ],
      "text/plain": [
       "             Key_id  First_P  Second_P  Third_P  Fourth_P  Fifth_P  Sixth_P  \\\n",
       "RDate                                                                         \n",
       "2016-01-02  8302779       10        19       23        28       31       32   \n",
       "2016-01-06  2383816        2        15       25        43       45       46   \n",
       "2016-01-09  2173466        2        11       14        28       29       34   \n",
       "2016-01-13  8169338       10        14       26        37       42       47   \n",
       "2016-01-16  9502701       14        18       25        27       33       44   \n",
       "\n",
       "           Result  Total    Product  \n",
       "RDate                                \n",
       "2016-01-02   Roll    143  121381120  \n",
       "2016-01-06   Roll    176   66757500  \n",
       "2016-01-09   Roll    118    8503264  \n",
       "2016-01-13   Roll    176  265858320  \n",
       "2016-01-16   Roll    161  246985200  "
      ]
     },
     "execution_count": 4,
     "metadata": {},
     "output_type": "execute_result"
    }
   ],
   "source": [
    "df.head(5)"
   ]
  },
  {
   "cell_type": "code",
   "execution_count": 5,
   "id": "d4d485b1-8cd2-47f3-a0b7-b94e48c7a21a",
   "metadata": {},
   "outputs": [],
   "source": [
    "column_Total = df[['Total']]"
   ]
  },
  {
   "cell_type": "code",
   "execution_count": 6,
   "id": "97d94968-12c8-4ee9-b097-21c238256dd2",
   "metadata": {},
   "outputs": [],
   "source": [
    "dfTotal = column_Total.copy()"
   ]
  },
  {
   "cell_type": "code",
   "execution_count": 7,
   "id": "66849922-cddd-4d42-8bdd-48668c3d78c7",
   "metadata": {},
   "outputs": [
    {
     "data": {
      "text/html": [
       "<div>\n",
       "<style scoped>\n",
       "    .dataframe tbody tr th:only-of-type {\n",
       "        vertical-align: middle;\n",
       "    }\n",
       "\n",
       "    .dataframe tbody tr th {\n",
       "        vertical-align: top;\n",
       "    }\n",
       "\n",
       "    .dataframe thead th {\n",
       "        text-align: right;\n",
       "    }\n",
       "</style>\n",
       "<table border=\"1\" class=\"dataframe\">\n",
       "  <thead>\n",
       "    <tr style=\"text-align: right;\">\n",
       "      <th></th>\n",
       "      <th>Total</th>\n",
       "    </tr>\n",
       "    <tr>\n",
       "      <th>RDate</th>\n",
       "      <th></th>\n",
       "    </tr>\n",
       "  </thead>\n",
       "  <tbody>\n",
       "    <tr>\n",
       "      <th>2016-01-02</th>\n",
       "      <td>143</td>\n",
       "    </tr>\n",
       "    <tr>\n",
       "      <th>2016-01-06</th>\n",
       "      <td>176</td>\n",
       "    </tr>\n",
       "    <tr>\n",
       "      <th>2016-01-09</th>\n",
       "      <td>118</td>\n",
       "    </tr>\n",
       "    <tr>\n",
       "      <th>2016-01-13</th>\n",
       "      <td>176</td>\n",
       "    </tr>\n",
       "    <tr>\n",
       "      <th>2016-01-16</th>\n",
       "      <td>161</td>\n",
       "    </tr>\n",
       "  </tbody>\n",
       "</table>\n",
       "</div>"
      ],
      "text/plain": [
       "            Total\n",
       "RDate            \n",
       "2016-01-02    143\n",
       "2016-01-06    176\n",
       "2016-01-09    118\n",
       "2016-01-13    176\n",
       "2016-01-16    161"
      ]
     },
     "execution_count": 7,
     "metadata": {},
     "output_type": "execute_result"
    }
   ],
   "source": [
    "dfTotal.head(5)"
   ]
  },
  {
   "cell_type": "code",
   "execution_count": 8,
   "id": "779b8735-9132-4ac2-a4d1-55a187b7abf7",
   "metadata": {},
   "outputs": [
    {
     "data": {
      "text/plain": [
       "<AxesSubplot:xlabel='RDate'>"
      ]
     },
     "execution_count": 8,
     "metadata": {},
     "output_type": "execute_result"
    },
    {
     "data": {
      "image/png": "[encoded data removed]",
      "text/plain": [
       "<Figure size 432x288 with 1 Axes>"
      ]
     },
     "metadata": {
      "needs_background": "light"
     },
     "output_type": "display_data"
    }
   ],
   "source": [
    "dfTotal.plot()"
   ]
  },
  {
   "cell_type": "code",
   "execution_count": 9,
   "id": "2d1c216c-365c-4d5d-8467-ba0bc726ca77",
   "metadata": {},
   "outputs": [],
   "source": [
    "alpha = 0.2"
   ]
  },
  {
   "cell_type": "code",
   "execution_count": 10,
   "id": "a55dd9f1-7ee9-4218-82fa-a6dd181ddfd7",
   "metadata": {},
   "outputs": [],
   "source": [
    "from statsmodels.tsa.holtwinters import SimpleExpSmoothing"
   ]
  },
  {
   "cell_type": "code",
   "execution_count": 17,
   "id": "2f3d9646-ef89-4955-b373-42dd7d73d7ef",
   "metadata": {},
   "outputs": [
    {
     "name": "stderr",
     "output_type": "stream",
     "text": [
      "/Users/jitendrashirsat/opt/anaconda3/lib/python3.9/site-packages/statsmodels/tsa/holtwinters/model.py:427: FutureWarning: After 0.13 initialization must be handled at model creation\n",
      "  warnings.warn(\n"
     ]
    }
   ],
   "source": [
    "ses = SimpleExpSmoothing(dfTotal['Total'])"
   ]
  },
  {
   "cell_type": "code",
   "execution_count": 14,
   "id": "52da3fba-dddb-4da9-993f-9daa877af789",
   "metadata": {},
   "outputs": [],
   "source": [
    "weekmask_egypt = 'Wed Sat'\n",
    "bday_egypt = CustomBusinessDay (weekmask=weekmask_egypt)"
   ]
  },
  {
   "cell_type": "code",
   "execution_count": 15,
   "id": "dedf302f-2b79-4735-8012-2fa2341bd1ce",
   "metadata": {},
   "outputs": [],
   "source": [
    "dfTotal.index.freq=bday_egypt"
   ]
  },
  {
   "cell_type": "code",
   "execution_count": 16,
   "id": "745d6251-6f68-4d0f-bdc9-26227b2f7249",
   "metadata": {},
   "outputs": [
    {
     "data": {
      "text/plain": [
       "DatetimeIndex(['2016-01-02', '2016-01-06', '2016-01-09', '2016-01-13',\n",
       "               '2016-01-16', '2016-01-20', '2016-01-23', '2016-01-27',\n",
       "               '2016-01-30', '2016-02-03',\n",
       "               ...\n",
       "               '2022-05-28', '2022-06-01', '2022-06-04', '2022-06-08',\n",
       "               '2022-06-11', '2022-06-15', '2022-06-18', '2022-06-22',\n",
       "               '2022-06-25', '2022-06-29'],\n",
       "              dtype='datetime64[ns]', name='RDate', length=678, freq='C')"
      ]
     },
     "execution_count": 16,
     "metadata": {},
     "output_type": "execute_result"
    }
   ],
   "source": [
    "dfTotal.index"
   ]
  },
  {
   "cell_type": "code",
   "execution_count": 18,
   "id": "7523a574-4a43-4c5e-b892-77a417bb9bdd",
   "metadata": {},
   "outputs": [],
   "source": [
    "ses = SimpleExpSmoothing(dfTotal['Total'],initialization_method='legacy-heuristic')"
   ]
  },
  {
   "cell_type": "code",
   "execution_count": 19,
   "id": "cb835f10-8d3f-43a2-bf83-5ad38d0c4cfe",
   "metadata": {},
   "outputs": [],
   "source": [
    "res = ses.fit(smoothing_level=alpha,optimized=False)"
   ]
  },
  {
   "cell_type": "code",
   "execution_count": 20,
   "id": "54d44723-3cd0-4902-8844-5a42951f7f2b",
   "metadata": {},
   "outputs": [
    {
     "data": {
      "text/plain": [
       "<statsmodels.tsa.holtwinters.results.HoltWintersResultsWrapper at 0x7fdd0102b5b0>"
      ]
     },
     "execution_count": 20,
     "metadata": {},
     "output_type": "execute_result"
    }
   ],
   "source": [
    "res"
   ]
  },
  {
   "cell_type": "code",
   "execution_count": 21,
   "id": "f57981e3-0101-4bdd-9506-d19c55706271",
   "metadata": {},
   "outputs": [
    {
     "name": "stderr",
     "output_type": "stream",
     "text": [
      "/Users/jitendrashirsat/opt/anaconda3/lib/python3.9/site-packages/statsmodels/tsa/base/tsa_model.py:132: FutureWarning: The 'freq' argument in Timestamp is deprecated and will be removed in a future version.\n",
      "  date_key = Timestamp(key, freq=base_index.freq)\n"
     ]
    },
    {
     "data": {
      "text/plain": [
       "RDate\n",
       "2016-01-02    143.000000\n",
       "2016-01-06    143.000000\n",
       "2016-01-09    149.600000\n",
       "2016-01-13    143.280000\n",
       "2016-01-16    149.824000\n",
       "                 ...    \n",
       "2022-06-15    145.923626\n",
       "2022-06-18    154.338901\n",
       "2022-06-22    155.471121\n",
       "2022-06-25    153.376897\n",
       "2022-06-29    152.501517\n",
       "Freq: C, Length: 678, dtype: float64"
      ]
     },
     "execution_count": 21,
     "metadata": {},
     "output_type": "execute_result"
    }
   ],
   "source": [
    "res.predict(start=df.index[0],end=df.index[-1])"
   ]
  },
  {
   "cell_type": "code",
   "execution_count": 25,
   "id": "f142d0da-166b-47f5-96da-fc52df1d7c8c",
   "metadata": {},
   "outputs": [
    {
     "name": "stderr",
     "output_type": "stream",
     "text": [
      "/Users/jitendrashirsat/opt/anaconda3/lib/python3.9/site-packages/statsmodels/tsa/base/tsa_model.py:132: FutureWarning: The 'freq' argument in Timestamp is deprecated and will be removed in a future version.\n",
      "  date_key = Timestamp(key, freq=base_index.freq)\n"
     ]
    }
   ],
   "source": [
    "dfTotal['SESTotal'] = res.predict(start=df.index[0],end=df.index[-1])"
   ]
  },
  {
   "cell_type": "code",
   "execution_count": 26,
   "id": "ddd5d0c8-9da6-49bb-98a1-75ad9a63a524",
   "metadata": {},
   "outputs": [
    {
     "data": {
      "text/plain": [
       "True"
      ]
     },
     "execution_count": 26,
     "metadata": {},
     "output_type": "execute_result"
    }
   ],
   "source": [
    "np.allclose(dfTotal['SESTotal'],res.fittedvalues)"
   ]
  },
  {
   "cell_type": "code",
   "execution_count": 27,
   "id": "38b709f8-c98c-496b-94d0-7121f53932ad",
   "metadata": {},
   "outputs": [
    {
     "data": {
      "text/plain": [
       "<AxesSubplot:xlabel='RDate'>"
      ]
     },
     "execution_count": 27,
     "metadata": {},
     "output_type": "execute_result"
    },
    {
     "data": {
      "image/png": "[encoded data removed]",
      "text/plain": [
       "<Figure size 432x288 with 1 Axes>"
      ]
     },
     "metadata": {
      "needs_background": "light"
     },
     "output_type": "display_data"
    }
   ],
   "source": [
    "dfTotal.plot()"
   ]
  },
  {
   "cell_type": "code",
   "execution_count": 28,
   "id": "a88ab746-177c-4e45-80e5-66a512b3e388",
   "metadata": {},
   "outputs": [],
   "source": [
    "N_test = 12\n",
    "train = dfTotal.iloc[:-N_test]\n",
    "test = dfTotal.iloc[-N_test:]"
   ]
  },
  {
   "cell_type": "code",
   "execution_count": 30,
   "id": "84a29d78-f206-4dc8-b5b8-9c14df1fc15a",
   "metadata": {},
   "outputs": [],
   "source": [
    "ses = SimpleExpSmoothing(train['Total'],\n",
    "                        initialization_method='legacy-heuristic')\n",
    "res = ses.fit()"
   ]
  },
  {
   "cell_type": "code",
   "execution_count": 31,
   "id": "c1bef47b-4898-4fdc-990e-ee36d6ca6e53",
   "metadata": {},
   "outputs": [],
   "source": [
    "train_idx = df.index <= train.index[-1]\n",
    "test_idx = df.index > train.index[-1]"
   ]
  },
  {
   "cell_type": "code",
   "execution_count": 32,
   "id": "388d594c-fb45-4d6a-a177-072f5e9fd70b",
   "metadata": {},
   "outputs": [
    {
     "name": "stderr",
     "output_type": "stream",
     "text": [
      "/Users/jitendrashirsat/opt/anaconda3/lib/python3.9/site-packages/statsmodels/tsa/base/tsa_model.py:132: FutureWarning: The 'freq' argument in Timestamp is deprecated and will be removed in a future version.\n",
      "  date_key = Timestamp(key, freq=base_index.freq)\n"
     ]
    },
    {
     "data": {
      "text/plain": [
       "<AxesSubplot:xlabel='RDate'>"
      ]
     },
     "execution_count": 32,
     "metadata": {},
     "output_type": "execute_result"
    },
    {
     "data": {
      "image/png": "[encoded data removed]",
      "text/plain": [
       "<Figure size 432x288 with 1 Axes>"
      ]
     },
     "metadata": {
      "needs_background": "light"
     },
     "output_type": "display_data"
    }
   ],
   "source": [
    "dfTotal.loc[train_idx,'SESFitted'] = res.fittedvalues\n",
    "dfTotal.loc[test_idx,'SESFitted'] = res.forecast(N_test)\n",
    "dfTotal[['Total','SESFitted']].plot()"
   ]
  },
  {
   "cell_type": "code",
   "execution_count": 33,
   "id": "a892a863-a1e2-4281-8aa5-2af809363b7c",
   "metadata": {},
   "outputs": [
    {
     "data": {
      "text/plain": [
       "{'smoothing_level': 0.005,\n",
       " 'smoothing_trend': nan,\n",
       " 'smoothing_seasonal': nan,\n",
       " 'damping_trend': nan,\n",
       " 'initial_level': 143.0,\n",
       " 'initial_trend': nan,\n",
       " 'initial_seasons': array([], dtype=float64),\n",
       " 'use_boxcox': False,\n",
       " 'lamda': None,\n",
       " 'remove_bias': False}"
      ]
     },
     "execution_count": 33,
     "metadata": {},
     "output_type": "execute_result"
    }
   ],
   "source": [
    "res.params"
   ]
  },
  {
   "cell_type": "code",
   "execution_count": 34,
   "id": "10a87e38-9819-4251-92e5-7f653365b081",
   "metadata": {},
   "outputs": [
    {
     "data": {
      "text/html": [
       "<div>\n",
       "<style scoped>\n",
       "    .dataframe tbody tr th:only-of-type {\n",
       "        vertical-align: middle;\n",
       "    }\n",
       "\n",
       "    .dataframe tbody tr th {\n",
       "        vertical-align: top;\n",
       "    }\n",
       "\n",
       "    .dataframe thead th {\n",
       "        text-align: right;\n",
       "    }\n",
       "</style>\n",
       "<table border=\"1\" class=\"dataframe\">\n",
       "  <thead>\n",
       "    <tr style=\"text-align: right;\">\n",
       "      <th></th>\n",
       "      <th>Total</th>\n",
       "      <th>SESTotal</th>\n",
       "      <th>SESFitted</th>\n",
       "    </tr>\n",
       "    <tr>\n",
       "      <th>RDate</th>\n",
       "      <th></th>\n",
       "      <th></th>\n",
       "      <th></th>\n",
       "    </tr>\n",
       "  </thead>\n",
       "  <tbody>\n",
       "    <tr>\n",
       "      <th>2022-06-04</th>\n",
       "      <td>165</td>\n",
       "      <td>158.132083</td>\n",
       "      <td>146.038547</td>\n",
       "    </tr>\n",
       "    <tr>\n",
       "      <th>2022-06-08</th>\n",
       "      <td>124</td>\n",
       "      <td>159.505666</td>\n",
       "      <td>146.038547</td>\n",
       "    </tr>\n",
       "    <tr>\n",
       "      <th>2022-06-11</th>\n",
       "      <td>120</td>\n",
       "      <td>152.404533</td>\n",
       "      <td>146.038547</td>\n",
       "    </tr>\n",
       "    <tr>\n",
       "      <th>2022-06-15</th>\n",
       "      <td>188</td>\n",
       "      <td>145.923626</td>\n",
       "      <td>146.038547</td>\n",
       "    </tr>\n",
       "    <tr>\n",
       "      <th>2022-06-18</th>\n",
       "      <td>160</td>\n",
       "      <td>154.338901</td>\n",
       "      <td>146.038547</td>\n",
       "    </tr>\n",
       "    <tr>\n",
       "      <th>2022-06-22</th>\n",
       "      <td>145</td>\n",
       "      <td>155.471121</td>\n",
       "      <td>146.038547</td>\n",
       "    </tr>\n",
       "    <tr>\n",
       "      <th>2022-06-25</th>\n",
       "      <td>149</td>\n",
       "      <td>153.376897</td>\n",
       "      <td>146.038547</td>\n",
       "    </tr>\n",
       "    <tr>\n",
       "      <th>2022-06-29</th>\n",
       "      <td>113</td>\n",
       "      <td>152.501517</td>\n",
       "      <td>146.038547</td>\n",
       "    </tr>\n",
       "  </tbody>\n",
       "</table>\n",
       "</div>"
      ],
      "text/plain": [
       "            Total    SESTotal   SESFitted\n",
       "RDate                                    \n",
       "2022-06-04    165  158.132083  146.038547\n",
       "2022-06-08    124  159.505666  146.038547\n",
       "2022-06-11    120  152.404533  146.038547\n",
       "2022-06-15    188  145.923626  146.038547\n",
       "2022-06-18    160  154.338901  146.038547\n",
       "2022-06-22    145  155.471121  146.038547\n",
       "2022-06-25    149  153.376897  146.038547\n",
       "2022-06-29    113  152.501517  146.038547"
      ]
     },
     "execution_count": 34,
     "metadata": {},
     "output_type": "execute_result"
    }
   ],
   "source": [
    "dfTotal.tail(8)"
   ]
  },
  {
   "cell_type": "code",
   "execution_count": null,
   "id": "09ceefee-bb2c-42c7-8cd5-d736263dacb0",
   "metadata": {},
   "outputs": [],
   "source": []
  },
  {
   "cell_type": "code",
   "execution_count": null,
   "id": "fc9ccc93-0265-43b1-956a-a74af393c0a7",
   "metadata": {},
   "outputs": [],
   "source": []
  },
  {
   "cell_type": "code",
   "execution_count": null,
   "id": "fab8099d-479f-4281-a8f8-2d4187b68a16",
   "metadata": {},
   "outputs": [],
   "source": []
  },
  {
   "cell_type": "code",
   "execution_count": null,
   "id": "b3133d0c-8251-4d98-82c5-d969d4dfdb8c",
   "metadata": {},
   "outputs": [],
   "source": []
  },
  {
   "cell_type": "code",
   "execution_count": null,
   "id": "56d3e693-a3ae-43b0-aab0-ca71cc9587eb",
   "metadata": {},
   "outputs": [],
   "source": []
  }
 ],
 "metadata": {
  "kernelspec": {
   "display_name": "Python 3 (ipykernel)",
   "language": "python",
   "name": "python3"
  },
  "language_info": {
   "codemirror_mode": {
    "name": "ipython",
    "version": 3
   },
   "file_extension": ".py",
   "mimetype": "text/x-python",
   "name": "python",
   "nbconvert_exporter": "python",
   "pygments_lexer": "ipython3",
   "version": "3.9.7"
  }
 },
 "nbformat": 4,
 "nbformat_minor": 5
}
