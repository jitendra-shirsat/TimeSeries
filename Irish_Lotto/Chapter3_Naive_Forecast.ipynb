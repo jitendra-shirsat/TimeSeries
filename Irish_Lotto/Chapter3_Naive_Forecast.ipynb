{
 "cells": [
  {
   "cell_type": "code",
   "execution_count": 65,
   "id": "f0a07f21-5d34-4a33-b106-81e340c1064d",
   "metadata": {
    "tags": []
   },
   "outputs": [],
   "source": [
    "import numpy as np\n",
    "import pandas as pd\n",
    "from scipy.stats import boxcox\n",
    "# from scipy.special import boxcox, inv_boxcox"
   ]
  },
  {
   "cell_type": "code",
   "execution_count": 2,
   "id": "f408f594-bad7-4f81-abea-858984a71c47",
   "metadata": {},
   "outputs": [],
   "source": [
    "from sklearn.metrics import mean_absolute_percentage_error, \\\n",
    "mean_absolute_error, r2_score,mean_squared_error"
   ]
  },
  {
   "cell_type": "code",
   "execution_count": 3,
   "id": "67476693-1cad-4728-8ab8-ecafa8396320",
   "metadata": {},
   "outputs": [],
   "source": [
    "df = pd.read_csv(r'/Users/jitendrashirsat/Documents/Time-Series/TimeSeries/Last_Five_years_Lotto.csv'\\\n",
    "                ,index_col='RDate',parse_dates=True)"
   ]
  },
  {
   "cell_type": "code",
   "execution_count": 4,
   "id": "0aef3a39-15cd-4298-8df6-6d8f16df6d35",
   "metadata": {},
   "outputs": [
    {
     "data": {
      "text/html": [
       "<div>\n",
       "<style scoped>\n",
       "    .dataframe tbody tr th:only-of-type {\n",
       "        vertical-align: middle;\n",
       "    }\n",
       "\n",
       "    .dataframe tbody tr th {\n",
       "        vertical-align: top;\n",
       "    }\n",
       "\n",
       "    .dataframe thead th {\n",
       "        text-align: right;\n",
       "    }\n",
       "</style>\n",
       "<table border=\"1\" class=\"dataframe\">\n",
       "  <thead>\n",
       "    <tr style=\"text-align: right;\">\n",
       "      <th></th>\n",
       "      <th>Key_id</th>\n",
       "      <th>First_P</th>\n",
       "      <th>Second_P</th>\n",
       "      <th>Third_P</th>\n",
       "      <th>Fourth_P</th>\n",
       "      <th>Fifth_P</th>\n",
       "      <th>Sixth_P</th>\n",
       "      <th>Result</th>\n",
       "      <th>Total</th>\n",
       "      <th>Product</th>\n",
       "    </tr>\n",
       "    <tr>\n",
       "      <th>RDate</th>\n",
       "      <th></th>\n",
       "      <th></th>\n",
       "      <th></th>\n",
       "      <th></th>\n",
       "      <th></th>\n",
       "      <th></th>\n",
       "      <th></th>\n",
       "      <th></th>\n",
       "      <th></th>\n",
       "      <th></th>\n",
       "    </tr>\n",
       "  </thead>\n",
       "  <tbody>\n",
       "    <tr>\n",
       "      <th>2016-01-02</th>\n",
       "      <td>8302779</td>\n",
       "      <td>10</td>\n",
       "      <td>19</td>\n",
       "      <td>23</td>\n",
       "      <td>28</td>\n",
       "      <td>31</td>\n",
       "      <td>32</td>\n",
       "      <td>Roll</td>\n",
       "      <td>143</td>\n",
       "      <td>121381120</td>\n",
       "    </tr>\n",
       "    <tr>\n",
       "      <th>2016-01-06</th>\n",
       "      <td>2383816</td>\n",
       "      <td>2</td>\n",
       "      <td>15</td>\n",
       "      <td>25</td>\n",
       "      <td>43</td>\n",
       "      <td>45</td>\n",
       "      <td>46</td>\n",
       "      <td>Roll</td>\n",
       "      <td>176</td>\n",
       "      <td>66757500</td>\n",
       "    </tr>\n",
       "    <tr>\n",
       "      <th>2016-01-09</th>\n",
       "      <td>2173466</td>\n",
       "      <td>2</td>\n",
       "      <td>11</td>\n",
       "      <td>14</td>\n",
       "      <td>28</td>\n",
       "      <td>29</td>\n",
       "      <td>34</td>\n",
       "      <td>Roll</td>\n",
       "      <td>118</td>\n",
       "      <td>8503264</td>\n",
       "    </tr>\n",
       "    <tr>\n",
       "      <th>2016-01-13</th>\n",
       "      <td>8169338</td>\n",
       "      <td>10</td>\n",
       "      <td>14</td>\n",
       "      <td>26</td>\n",
       "      <td>37</td>\n",
       "      <td>42</td>\n",
       "      <td>47</td>\n",
       "      <td>Roll</td>\n",
       "      <td>176</td>\n",
       "      <td>265858320</td>\n",
       "    </tr>\n",
       "    <tr>\n",
       "      <th>2016-01-16</th>\n",
       "      <td>9502701</td>\n",
       "      <td>14</td>\n",
       "      <td>18</td>\n",
       "      <td>25</td>\n",
       "      <td>27</td>\n",
       "      <td>33</td>\n",
       "      <td>44</td>\n",
       "      <td>Roll</td>\n",
       "      <td>161</td>\n",
       "      <td>246985200</td>\n",
       "    </tr>\n",
       "  </tbody>\n",
       "</table>\n",
       "</div>"
      ],
      "text/plain": [
       "             Key_id  First_P  Second_P  Third_P  Fourth_P  Fifth_P  Sixth_P  \\\n",
       "RDate                                                                         \n",
       "2016-01-02  8302779       10        19       23        28       31       32   \n",
       "2016-01-06  2383816        2        15       25        43       45       46   \n",
       "2016-01-09  2173466        2        11       14        28       29       34   \n",
       "2016-01-13  8169338       10        14       26        37       42       47   \n",
       "2016-01-16  9502701       14        18       25        27       33       44   \n",
       "\n",
       "           Result  Total    Product  \n",
       "RDate                                \n",
       "2016-01-02   Roll    143  121381120  \n",
       "2016-01-06   Roll    176   66757500  \n",
       "2016-01-09   Roll    118    8503264  \n",
       "2016-01-13   Roll    176  265858320  \n",
       "2016-01-16   Roll    161  246985200  "
      ]
     },
     "execution_count": 4,
     "metadata": {},
     "output_type": "execute_result"
    }
   ],
   "source": [
    "df.head(5)"
   ]
  },
  {
   "cell_type": "code",
   "execution_count": 5,
   "id": "04193040-be8a-419e-b2fb-96b42244c145",
   "metadata": {},
   "outputs": [],
   "source": [
    "df['TotalPrediction'] = df['Total'].shift(1)"
   ]
  },
  {
   "cell_type": "code",
   "execution_count": 6,
   "id": "347ec1ce-d7ff-4a3b-9a9f-210fe2e08796",
   "metadata": {},
   "outputs": [
    {
     "data": {
      "text/html": [
       "<div>\n",
       "<style scoped>\n",
       "    .dataframe tbody tr th:only-of-type {\n",
       "        vertical-align: middle;\n",
       "    }\n",
       "\n",
       "    .dataframe tbody tr th {\n",
       "        vertical-align: top;\n",
       "    }\n",
       "\n",
       "    .dataframe thead th {\n",
       "        text-align: right;\n",
       "    }\n",
       "</style>\n",
       "<table border=\"1\" class=\"dataframe\">\n",
       "  <thead>\n",
       "    <tr style=\"text-align: right;\">\n",
       "      <th></th>\n",
       "      <th>Key_id</th>\n",
       "      <th>First_P</th>\n",
       "      <th>Second_P</th>\n",
       "      <th>Third_P</th>\n",
       "      <th>Fourth_P</th>\n",
       "      <th>Fifth_P</th>\n",
       "      <th>Sixth_P</th>\n",
       "      <th>Result</th>\n",
       "      <th>Total</th>\n",
       "      <th>Product</th>\n",
       "      <th>TotalPrediction</th>\n",
       "    </tr>\n",
       "    <tr>\n",
       "      <th>RDate</th>\n",
       "      <th></th>\n",
       "      <th></th>\n",
       "      <th></th>\n",
       "      <th></th>\n",
       "      <th></th>\n",
       "      <th></th>\n",
       "      <th></th>\n",
       "      <th></th>\n",
       "      <th></th>\n",
       "      <th></th>\n",
       "      <th></th>\n",
       "    </tr>\n",
       "  </thead>\n",
       "  <tbody>\n",
       "    <tr>\n",
       "      <th>2016-01-02</th>\n",
       "      <td>8302779</td>\n",
       "      <td>10</td>\n",
       "      <td>19</td>\n",
       "      <td>23</td>\n",
       "      <td>28</td>\n",
       "      <td>31</td>\n",
       "      <td>32</td>\n",
       "      <td>Roll</td>\n",
       "      <td>143</td>\n",
       "      <td>121381120</td>\n",
       "      <td>NaN</td>\n",
       "    </tr>\n",
       "    <tr>\n",
       "      <th>2016-01-06</th>\n",
       "      <td>2383816</td>\n",
       "      <td>2</td>\n",
       "      <td>15</td>\n",
       "      <td>25</td>\n",
       "      <td>43</td>\n",
       "      <td>45</td>\n",
       "      <td>46</td>\n",
       "      <td>Roll</td>\n",
       "      <td>176</td>\n",
       "      <td>66757500</td>\n",
       "      <td>143.0</td>\n",
       "    </tr>\n",
       "    <tr>\n",
       "      <th>2016-01-09</th>\n",
       "      <td>2173466</td>\n",
       "      <td>2</td>\n",
       "      <td>11</td>\n",
       "      <td>14</td>\n",
       "      <td>28</td>\n",
       "      <td>29</td>\n",
       "      <td>34</td>\n",
       "      <td>Roll</td>\n",
       "      <td>118</td>\n",
       "      <td>8503264</td>\n",
       "      <td>176.0</td>\n",
       "    </tr>\n",
       "    <tr>\n",
       "      <th>2016-01-13</th>\n",
       "      <td>8169338</td>\n",
       "      <td>10</td>\n",
       "      <td>14</td>\n",
       "      <td>26</td>\n",
       "      <td>37</td>\n",
       "      <td>42</td>\n",
       "      <td>47</td>\n",
       "      <td>Roll</td>\n",
       "      <td>176</td>\n",
       "      <td>265858320</td>\n",
       "      <td>118.0</td>\n",
       "    </tr>\n",
       "    <tr>\n",
       "      <th>2016-01-16</th>\n",
       "      <td>9502701</td>\n",
       "      <td>14</td>\n",
       "      <td>18</td>\n",
       "      <td>25</td>\n",
       "      <td>27</td>\n",
       "      <td>33</td>\n",
       "      <td>44</td>\n",
       "      <td>Roll</td>\n",
       "      <td>161</td>\n",
       "      <td>246985200</td>\n",
       "      <td>176.0</td>\n",
       "    </tr>\n",
       "  </tbody>\n",
       "</table>\n",
       "</div>"
      ],
      "text/plain": [
       "             Key_id  First_P  Second_P  Third_P  Fourth_P  Fifth_P  Sixth_P  \\\n",
       "RDate                                                                         \n",
       "2016-01-02  8302779       10        19       23        28       31       32   \n",
       "2016-01-06  2383816        2        15       25        43       45       46   \n",
       "2016-01-09  2173466        2        11       14        28       29       34   \n",
       "2016-01-13  8169338       10        14       26        37       42       47   \n",
       "2016-01-16  9502701       14        18       25        27       33       44   \n",
       "\n",
       "           Result  Total    Product  TotalPrediction  \n",
       "RDate                                                 \n",
       "2016-01-02   Roll    143  121381120              NaN  \n",
       "2016-01-06   Roll    176   66757500            143.0  \n",
       "2016-01-09   Roll    118    8503264            176.0  \n",
       "2016-01-13   Roll    176  265858320            118.0  \n",
       "2016-01-16   Roll    161  246985200            176.0  "
      ]
     },
     "execution_count": 6,
     "metadata": {},
     "output_type": "execute_result"
    }
   ],
   "source": [
    "df.head(5)"
   ]
  },
  {
   "cell_type": "code",
   "execution_count": 7,
   "id": "42bac76b-e923-41f9-a851-f08969e2543b",
   "metadata": {},
   "outputs": [],
   "source": [
    "y_true = df.iloc[1:]['Total']\n",
    "y_pred = df.iloc[1:]['TotalPrediction']"
   ]
  },
  {
   "cell_type": "code",
   "execution_count": 8,
   "id": "a2be5270-0a7a-494b-bf9b-80821ec7f8c6",
   "metadata": {},
   "outputs": [
    {
     "data": {
      "text/plain": [
       "RDate\n",
       "2016-01-06    176\n",
       "2016-01-09    118\n",
       "2016-01-13    176\n",
       "2016-01-16    161\n",
       "2016-01-20    105\n",
       "Name: Total, dtype: int64"
      ]
     },
     "execution_count": 8,
     "metadata": {},
     "output_type": "execute_result"
    }
   ],
   "source": [
    "y_true.head(5)"
   ]
  },
  {
   "cell_type": "code",
   "execution_count": 9,
   "id": "9e2771dc-dd5a-4c8e-b207-e09128d832ed",
   "metadata": {},
   "outputs": [
    {
     "data": {
      "text/plain": [
       "RDate\n",
       "2016-01-06    143.0\n",
       "2016-01-09    176.0\n",
       "2016-01-13    118.0\n",
       "2016-01-16    176.0\n",
       "2016-01-20    161.0\n",
       "Name: TotalPrediction, dtype: float64"
      ]
     },
     "execution_count": 9,
     "metadata": {},
     "output_type": "execute_result"
    }
   ],
   "source": [
    "y_pred.head(5)"
   ]
  },
  {
   "cell_type": "code",
   "execution_count": 10,
   "id": "7a9614e5-201b-4f0d-8def-dae78e264d0c",
   "metadata": {},
   "outputs": [
    {
     "data": {
      "text/plain": [
       "1328612.0"
      ]
     },
     "execution_count": 10,
     "metadata": {},
     "output_type": "execute_result"
    }
   ],
   "source": [
    "# SSE\n",
    "(y_true-y_pred).dot(y_true-y_pred)"
   ]
  },
  {
   "cell_type": "code",
   "execution_count": 11,
   "id": "11460a3f-e05d-44f7-a19f-6b42c9a4baa6",
   "metadata": {},
   "outputs": [
    {
     "data": {
      "text/plain": [
       "1962.4992614475627"
      ]
     },
     "execution_count": 11,
     "metadata": {},
     "output_type": "execute_result"
    }
   ],
   "source": [
    "# MSE\n",
    "mean_squared_error(y_true,y_pred)"
   ]
  },
  {
   "cell_type": "code",
   "execution_count": 12,
   "id": "e6d5b75a-29fa-4f73-b614-08c0e9498ab6",
   "metadata": {},
   "outputs": [
    {
     "data": {
      "text/plain": [
       "44.30010453088754"
      ]
     },
     "execution_count": 12,
     "metadata": {},
     "output_type": "execute_result"
    }
   ],
   "source": [
    "# RMSE\n",
    "mean_squared_error(y_true,y_pred,squared=False)"
   ]
  },
  {
   "cell_type": "code",
   "execution_count": 13,
   "id": "745a5ec6-97a1-47fb-b9b5-a685e089fe3d",
   "metadata": {},
   "outputs": [
    {
     "data": {
      "text/plain": [
       "35.288035450516986"
      ]
     },
     "execution_count": 13,
     "metadata": {},
     "output_type": "execute_result"
    }
   ],
   "source": [
    "# MAE\n",
    "mean_absolute_error(y_true,y_pred)"
   ]
  },
  {
   "cell_type": "code",
   "execution_count": 14,
   "id": "fb1d6862-dbf5-4393-a933-a27722c3546f",
   "metadata": {},
   "outputs": [
    {
     "data": {
      "text/plain": [
       "-1.033739897117448"
      ]
     },
     "execution_count": 14,
     "metadata": {},
     "output_type": "execute_result"
    }
   ],
   "source": [
    "# R^2\n",
    "r2_score(y_true,y_pred)"
   ]
  },
  {
   "cell_type": "code",
   "execution_count": 15,
   "id": "94fbc2f3-ae3e-4705-bc49-63bfa2d7d2ce",
   "metadata": {},
   "outputs": [
    {
     "data": {
      "text/plain": [
       "0.261679992154968"
      ]
     },
     "execution_count": 15,
     "metadata": {},
     "output_type": "execute_result"
    }
   ],
   "source": [
    "# MAPE\n",
    "mean_absolute_percentage_error(y_true,y_pred)"
   ]
  },
  {
   "cell_type": "code",
   "execution_count": 16,
   "id": "a1e3669f-9479-4a5c-b1b9-fa747786f6ad",
   "metadata": {},
   "outputs": [],
   "source": [
    "def smape(y_true, y_pred):\n",
    "    numerator = np.abs(y_true-y_pred)\n",
    "    denominator = (np.abs(y_true) + np.abs(y_pred))/2\n",
    "    ratio = numerator/denominator\n",
    "    return ratio.mean()"
   ]
  },
  {
   "cell_type": "code",
   "execution_count": 17,
   "id": "1fa2862e-a00b-4ac1-91f6-a84bcc9f3d30",
   "metadata": {},
   "outputs": [
    {
     "data": {
      "text/plain": [
       "0.24618174076650404"
      ]
     },
     "execution_count": 17,
     "metadata": {},
     "output_type": "execute_result"
    }
   ],
   "source": [
    "smape(y_true,y_pred)"
   ]
  },
  {
   "cell_type": "markdown",
   "id": "d4c67635-6f4c-427c-a342-1a012e61729e",
   "metadata": {},
   "source": [
    "# taking 104 values which is 1 year data"
   ]
  },
  {
   "cell_type": "code",
   "execution_count": 18,
   "id": "9d34088b-ea00-4384-b61c-fc622090adfb",
   "metadata": {},
   "outputs": [],
   "source": [
    "df100 = df[-104:].copy()"
   ]
  },
  {
   "cell_type": "code",
   "execution_count": 19,
   "id": "8183a735-cbfb-46ed-ba3d-654614bfe7a3",
   "metadata": {},
   "outputs": [],
   "source": [
    "df100['TotalPrediction100'] = df100['Total'].shift(1)"
   ]
  },
  {
   "cell_type": "code",
   "execution_count": 30,
   "id": "15feb142-a7c6-4b8a-9a79-4ec9d4099d2e",
   "metadata": {},
   "outputs": [
    {
     "data": {
      "text/html": [
       "<div>\n",
       "<style scoped>\n",
       "    .dataframe tbody tr th:only-of-type {\n",
       "        vertical-align: middle;\n",
       "    }\n",
       "\n",
       "    .dataframe tbody tr th {\n",
       "        vertical-align: top;\n",
       "    }\n",
       "\n",
       "    .dataframe thead th {\n",
       "        text-align: right;\n",
       "    }\n",
       "</style>\n",
       "<table border=\"1\" class=\"dataframe\">\n",
       "  <thead>\n",
       "    <tr style=\"text-align: right;\">\n",
       "      <th></th>\n",
       "      <th>Key_id</th>\n",
       "      <th>First_P</th>\n",
       "      <th>Second_P</th>\n",
       "      <th>Third_P</th>\n",
       "      <th>Fourth_P</th>\n",
       "      <th>Fifth_P</th>\n",
       "      <th>Sixth_P</th>\n",
       "      <th>Result</th>\n",
       "      <th>Total</th>\n",
       "      <th>Product</th>\n",
       "      <th>TotalPrediction</th>\n",
       "      <th>TotalPrediction100</th>\n",
       "    </tr>\n",
       "    <tr>\n",
       "      <th>RDate</th>\n",
       "      <th></th>\n",
       "      <th></th>\n",
       "      <th></th>\n",
       "      <th></th>\n",
       "      <th></th>\n",
       "      <th></th>\n",
       "      <th></th>\n",
       "      <th></th>\n",
       "      <th></th>\n",
       "      <th></th>\n",
       "      <th></th>\n",
       "      <th></th>\n",
       "    </tr>\n",
       "  </thead>\n",
       "  <tbody>\n",
       "    <tr>\n",
       "      <th>2022-06-15</th>\n",
       "      <td>6851760</td>\n",
       "      <td>7</td>\n",
       "      <td>23</td>\n",
       "      <td>27</td>\n",
       "      <td>38</td>\n",
       "      <td>46</td>\n",
       "      <td>47</td>\n",
       "      <td>Roll</td>\n",
       "      <td>188</td>\n",
       "      <td>357132132</td>\n",
       "      <td>120.0</td>\n",
       "      <td>120.0</td>\n",
       "    </tr>\n",
       "    <tr>\n",
       "      <th>2022-06-18</th>\n",
       "      <td>4455117</td>\n",
       "      <td>4</td>\n",
       "      <td>16</td>\n",
       "      <td>21</td>\n",
       "      <td>27</td>\n",
       "      <td>45</td>\n",
       "      <td>47</td>\n",
       "      <td>Roll</td>\n",
       "      <td>160</td>\n",
       "      <td>76749120</td>\n",
       "      <td>188.0</td>\n",
       "      <td>188.0</td>\n",
       "    </tr>\n",
       "    <tr>\n",
       "      <th>2022-06-22</th>\n",
       "      <td>3490698</td>\n",
       "      <td>3</td>\n",
       "      <td>16</td>\n",
       "      <td>20</td>\n",
       "      <td>34</td>\n",
       "      <td>35</td>\n",
       "      <td>37</td>\n",
       "      <td>Roll</td>\n",
       "      <td>145</td>\n",
       "      <td>42268800</td>\n",
       "      <td>160.0</td>\n",
       "      <td>160.0</td>\n",
       "    </tr>\n",
       "    <tr>\n",
       "      <th>2022-06-25</th>\n",
       "      <td>1837284</td>\n",
       "      <td>2</td>\n",
       "      <td>6</td>\n",
       "      <td>27</td>\n",
       "      <td>28</td>\n",
       "      <td>41</td>\n",
       "      <td>45</td>\n",
       "      <td>Roll</td>\n",
       "      <td>149</td>\n",
       "      <td>16737840</td>\n",
       "      <td>145.0</td>\n",
       "      <td>145.0</td>\n",
       "    </tr>\n",
       "    <tr>\n",
       "      <th>2022-06-29</th>\n",
       "      <td>839715</td>\n",
       "      <td>1</td>\n",
       "      <td>9</td>\n",
       "      <td>17</td>\n",
       "      <td>25</td>\n",
       "      <td>30</td>\n",
       "      <td>31</td>\n",
       "      <td>Roll</td>\n",
       "      <td>113</td>\n",
       "      <td>3557250</td>\n",
       "      <td>149.0</td>\n",
       "      <td>149.0</td>\n",
       "    </tr>\n",
       "  </tbody>\n",
       "</table>\n",
       "</div>"
      ],
      "text/plain": [
       "             Key_id  First_P  Second_P  Third_P  Fourth_P  Fifth_P  Sixth_P  \\\n",
       "RDate                                                                         \n",
       "2022-06-15  6851760        7        23       27        38       46       47   \n",
       "2022-06-18  4455117        4        16       21        27       45       47   \n",
       "2022-06-22  3490698        3        16       20        34       35       37   \n",
       "2022-06-25  1837284        2         6       27        28       41       45   \n",
       "2022-06-29   839715        1         9       17        25       30       31   \n",
       "\n",
       "           Result  Total    Product  TotalPrediction  TotalPrediction100  \n",
       "RDate                                                                     \n",
       "2022-06-15   Roll    188  357132132            120.0               120.0  \n",
       "2022-06-18   Roll    160   76749120            188.0               188.0  \n",
       "2022-06-22   Roll    145   42268800            160.0               160.0  \n",
       "2022-06-25   Roll    149   16737840            145.0               145.0  \n",
       "2022-06-29   Roll    113    3557250            149.0               149.0  "
      ]
     },
     "execution_count": 30,
     "metadata": {},
     "output_type": "execute_result"
    }
   ],
   "source": [
    "df100.tail(5)"
   ]
  },
  {
   "cell_type": "code",
   "execution_count": 21,
   "id": "ca2486f2-1f4c-47b4-bfea-b7c8a44550d5",
   "metadata": {},
   "outputs": [],
   "source": [
    "y_true100 = df100.iloc[1:]['Total']\n",
    "y_pred100 = df100.iloc[1:]['TotalPrediction100']"
   ]
  },
  {
   "cell_type": "code",
   "execution_count": 22,
   "id": "6779a89f-5eec-441f-a66a-765df738c29e",
   "metadata": {},
   "outputs": [
    {
     "data": {
      "text/plain": [
       "221373.0"
      ]
     },
     "execution_count": 22,
     "metadata": {},
     "output_type": "execute_result"
    }
   ],
   "source": [
    "# SSE\n",
    "(y_true100-y_pred100).dot(y_true100-y_pred100)"
   ]
  },
  {
   "cell_type": "code",
   "execution_count": 23,
   "id": "c05cbf5e-3262-47ab-89f4-375a371eabe0",
   "metadata": {},
   "outputs": [
    {
     "data": {
      "text/plain": [
       "2149.252427184466"
      ]
     },
     "execution_count": 23,
     "metadata": {},
     "output_type": "execute_result"
    }
   ],
   "source": [
    "# MSE\n",
    "mean_squared_error(y_true100,y_pred100)"
   ]
  },
  {
   "cell_type": "code",
   "execution_count": 24,
   "id": "b2e7d831-3ece-4c37-8d40-f824e66529f2",
   "metadata": {},
   "outputs": [
    {
     "data": {
      "text/plain": [
       "46.360030491625714"
      ]
     },
     "execution_count": 24,
     "metadata": {},
     "output_type": "execute_result"
    }
   ],
   "source": [
    "# RMSE\n",
    "mean_squared_error(y_true100,y_pred100,squared=False)"
   ]
  },
  {
   "cell_type": "code",
   "execution_count": 25,
   "id": "6113489a-6578-4122-b722-5180d79a9e6c",
   "metadata": {},
   "outputs": [
    {
     "data": {
      "text/plain": [
       "37.52427184466019"
      ]
     },
     "execution_count": 25,
     "metadata": {},
     "output_type": "execute_result"
    }
   ],
   "source": [
    "# MAE\n",
    "mean_absolute_error(y_true100,y_pred100)"
   ]
  },
  {
   "cell_type": "code",
   "execution_count": 27,
   "id": "3779972d-2f02-4fbd-96e2-0743ab865c4f",
   "metadata": {},
   "outputs": [
    {
     "data": {
      "text/plain": [
       "-1.4307590212326375"
      ]
     },
     "execution_count": 27,
     "metadata": {},
     "output_type": "execute_result"
    }
   ],
   "source": [
    "# R^2\n",
    "r2_score(y_true100,y_pred100)"
   ]
  },
  {
   "cell_type": "code",
   "execution_count": 28,
   "id": "02dca260-22c5-410d-a65f-d8883ee73ea3",
   "metadata": {},
   "outputs": [
    {
     "data": {
      "text/plain": [
       "0.27664629000789964"
      ]
     },
     "execution_count": 28,
     "metadata": {},
     "output_type": "execute_result"
    }
   ],
   "source": [
    "# MAPE\n",
    "mean_absolute_percentage_error(y_true100,y_pred100)"
   ]
  },
  {
   "cell_type": "code",
   "execution_count": 29,
   "id": "c706b376-e02c-4660-b289-eea7bb38696b",
   "metadata": {},
   "outputs": [
    {
     "data": {
      "text/plain": [
       "0.25839056849280945"
      ]
     },
     "execution_count": 29,
     "metadata": {},
     "output_type": "execute_result"
    }
   ],
   "source": [
    "smape(y_true100,y_pred100)"
   ]
  },
  {
   "cell_type": "markdown",
   "id": "e272e2b8-00d9-4eb7-bfa0-794c2ac06893",
   "metadata": {},
   "source": [
    "# taking 25 values which is 1 year data"
   ]
  },
  {
   "cell_type": "code",
   "execution_count": 37,
   "id": "b5e716b0-a2b8-4c1d-9269-e767387ff463",
   "metadata": {},
   "outputs": [],
   "source": [
    "df25 = df[-25:].copy()"
   ]
  },
  {
   "cell_type": "code",
   "execution_count": 38,
   "id": "596eb767-53ae-4852-b3ca-f8b9795302b2",
   "metadata": {},
   "outputs": [],
   "source": [
    "df25['TotalPrediction25'] = df25['Total'].shift(1)"
   ]
  },
  {
   "cell_type": "code",
   "execution_count": 39,
   "id": "2b801714-893a-40db-bab8-cf7149259815",
   "metadata": {},
   "outputs": [
    {
     "data": {
      "text/html": [
       "<div>\n",
       "<style scoped>\n",
       "    .dataframe tbody tr th:only-of-type {\n",
       "        vertical-align: middle;\n",
       "    }\n",
       "\n",
       "    .dataframe tbody tr th {\n",
       "        vertical-align: top;\n",
       "    }\n",
       "\n",
       "    .dataframe thead th {\n",
       "        text-align: right;\n",
       "    }\n",
       "</style>\n",
       "<table border=\"1\" class=\"dataframe\">\n",
       "  <thead>\n",
       "    <tr style=\"text-align: right;\">\n",
       "      <th></th>\n",
       "      <th>Key_id</th>\n",
       "      <th>First_P</th>\n",
       "      <th>Second_P</th>\n",
       "      <th>Third_P</th>\n",
       "      <th>Fourth_P</th>\n",
       "      <th>Fifth_P</th>\n",
       "      <th>Sixth_P</th>\n",
       "      <th>Result</th>\n",
       "      <th>Total</th>\n",
       "      <th>Product</th>\n",
       "      <th>TotalPrediction</th>\n",
       "      <th>TotalPrediction25</th>\n",
       "    </tr>\n",
       "    <tr>\n",
       "      <th>RDate</th>\n",
       "      <th></th>\n",
       "      <th></th>\n",
       "      <th></th>\n",
       "      <th></th>\n",
       "      <th></th>\n",
       "      <th></th>\n",
       "      <th></th>\n",
       "      <th></th>\n",
       "      <th></th>\n",
       "      <th></th>\n",
       "      <th></th>\n",
       "      <th></th>\n",
       "    </tr>\n",
       "  </thead>\n",
       "  <tbody>\n",
       "    <tr>\n",
       "      <th>2022-04-06</th>\n",
       "      <td>9280951</td>\n",
       "      <td>13</td>\n",
       "      <td>19</td>\n",
       "      <td>22</td>\n",
       "      <td>30</td>\n",
       "      <td>32</td>\n",
       "      <td>44</td>\n",
       "      <td>Roll</td>\n",
       "      <td>160</td>\n",
       "      <td>229532160</td>\n",
       "      <td>119.0</td>\n",
       "      <td>NaN</td>\n",
       "    </tr>\n",
       "    <tr>\n",
       "      <th>2022-04-09</th>\n",
       "      <td>3953777</td>\n",
       "      <td>4</td>\n",
       "      <td>7</td>\n",
       "      <td>17</td>\n",
       "      <td>24</td>\n",
       "      <td>29</td>\n",
       "      <td>42</td>\n",
       "      <td>Roll</td>\n",
       "      <td>123</td>\n",
       "      <td>13914432</td>\n",
       "      <td>160.0</td>\n",
       "      <td>160.0</td>\n",
       "    </tr>\n",
       "    <tr>\n",
       "      <th>2022-04-13</th>\n",
       "      <td>10386786</td>\n",
       "      <td>20</td>\n",
       "      <td>22</td>\n",
       "      <td>32</td>\n",
       "      <td>35</td>\n",
       "      <td>36</td>\n",
       "      <td>40</td>\n",
       "      <td>Roll</td>\n",
       "      <td>185</td>\n",
       "      <td>709632000</td>\n",
       "      <td>123.0</td>\n",
       "      <td>123.0</td>\n",
       "    </tr>\n",
       "    <tr>\n",
       "      <th>2022-04-16</th>\n",
       "      <td>8471369</td>\n",
       "      <td>11</td>\n",
       "      <td>13</td>\n",
       "      <td>15</td>\n",
       "      <td>17</td>\n",
       "      <td>30</td>\n",
       "      <td>47</td>\n",
       "      <td>Roll</td>\n",
       "      <td>133</td>\n",
       "      <td>51415650</td>\n",
       "      <td>185.0</td>\n",
       "      <td>185.0</td>\n",
       "    </tr>\n",
       "    <tr>\n",
       "      <th>2022-04-20</th>\n",
       "      <td>9034410</td>\n",
       "      <td>12</td>\n",
       "      <td>21</td>\n",
       "      <td>22</td>\n",
       "      <td>25</td>\n",
       "      <td>39</td>\n",
       "      <td>42</td>\n",
       "      <td>Roll</td>\n",
       "      <td>161</td>\n",
       "      <td>227026800</td>\n",
       "      <td>133.0</td>\n",
       "      <td>133.0</td>\n",
       "    </tr>\n",
       "  </tbody>\n",
       "</table>\n",
       "</div>"
      ],
      "text/plain": [
       "              Key_id  First_P  Second_P  Third_P  Fourth_P  Fifth_P  Sixth_P  \\\n",
       "RDate                                                                          \n",
       "2022-04-06   9280951       13        19       22        30       32       44   \n",
       "2022-04-09   3953777        4         7       17        24       29       42   \n",
       "2022-04-13  10386786       20        22       32        35       36       40   \n",
       "2022-04-16   8471369       11        13       15        17       30       47   \n",
       "2022-04-20   9034410       12        21       22        25       39       42   \n",
       "\n",
       "           Result  Total    Product  TotalPrediction  TotalPrediction25  \n",
       "RDate                                                                    \n",
       "2022-04-06   Roll    160  229532160            119.0                NaN  \n",
       "2022-04-09   Roll    123   13914432            160.0              160.0  \n",
       "2022-04-13   Roll    185  709632000            123.0              123.0  \n",
       "2022-04-16   Roll    133   51415650            185.0              185.0  \n",
       "2022-04-20   Roll    161  227026800            133.0              133.0  "
      ]
     },
     "execution_count": 39,
     "metadata": {},
     "output_type": "execute_result"
    }
   ],
   "source": [
    "df25.head(5)"
   ]
  },
  {
   "cell_type": "code",
   "execution_count": 40,
   "id": "17f219f6-1337-4fc3-b59d-7ab55fae407e",
   "metadata": {},
   "outputs": [],
   "source": [
    "y_true25 = df25.iloc[1:]['Total']\n",
    "y_pred25 = df25.iloc[1:]['TotalPrediction25']"
   ]
  },
  {
   "cell_type": "code",
   "execution_count": 41,
   "id": "bc0aa721-917a-468c-b3b9-ee1adca15724",
   "metadata": {},
   "outputs": [
    {
     "data": {
      "text/plain": [
       "39967.0"
      ]
     },
     "execution_count": 41,
     "metadata": {},
     "output_type": "execute_result"
    }
   ],
   "source": [
    "# SSE\n",
    "(y_true25-y_pred25).dot(y_true25-y_pred25)"
   ]
  },
  {
   "cell_type": "code",
   "execution_count": 42,
   "id": "6f59d760-f683-49b2-a960-0e55e507e7a2",
   "metadata": {},
   "outputs": [
    {
     "data": {
      "text/plain": [
       "1665.2916666666667"
      ]
     },
     "execution_count": 42,
     "metadata": {},
     "output_type": "execute_result"
    }
   ],
   "source": [
    "# MSE\n",
    "mean_squared_error(y_true25,y_pred25)"
   ]
  },
  {
   "cell_type": "code",
   "execution_count": 43,
   "id": "72f489b0-662a-42ab-a1db-7a47c063c793",
   "metadata": {},
   "outputs": [
    {
     "data": {
      "text/plain": [
       "40.80798532967128"
      ]
     },
     "execution_count": 43,
     "metadata": {},
     "output_type": "execute_result"
    }
   ],
   "source": [
    "# RMSE\n",
    "mean_squared_error(y_true25,y_pred25,squared=False)"
   ]
  },
  {
   "cell_type": "code",
   "execution_count": 44,
   "id": "9fb52ba5-1d52-4324-98fa-2dab56bce216",
   "metadata": {},
   "outputs": [
    {
     "data": {
      "text/plain": [
       "31.875"
      ]
     },
     "execution_count": 44,
     "metadata": {},
     "output_type": "execute_result"
    }
   ],
   "source": [
    "# MAE\n",
    "mean_absolute_error(y_true25,y_pred25)"
   ]
  },
  {
   "cell_type": "code",
   "execution_count": 45,
   "id": "b47b74a7-2973-4210-a62b-906e94949c9a",
   "metadata": {},
   "outputs": [
    {
     "data": {
      "text/plain": [
       "-1.3492093036925281"
      ]
     },
     "execution_count": 45,
     "metadata": {},
     "output_type": "execute_result"
    }
   ],
   "source": [
    "# R^2\n",
    "r2_score(y_true25,y_pred25)"
   ]
  },
  {
   "cell_type": "code",
   "execution_count": null,
   "id": "c1ba11a6-abba-4630-96e7-4e313edf46fa",
   "metadata": {
    "tags": []
   },
   "outputs": [],
   "source": [
    "# Checking after transforming data to SqRT"
   ]
  },
  {
   "cell_type": "code",
   "execution_count": 46,
   "id": "f196a255-4597-4793-8266-41be4ae638cf",
   "metadata": {},
   "outputs": [],
   "source": [
    "df['SqrtTotal'] = np.sqrt(df['Total'])"
   ]
  },
  {
   "cell_type": "code",
   "execution_count": 47,
   "id": "826f2e63-4dcc-46de-ae6c-d9e5169e488c",
   "metadata": {},
   "outputs": [],
   "source": [
    "df['SqrtTotalPrediction'] = df['SqrtTotal'].shift(1)"
   ]
  },
  {
   "cell_type": "code",
   "execution_count": 48,
   "id": "14c17fb5-a531-4ba0-baaa-c2a6bf2cc06d",
   "metadata": {},
   "outputs": [
    {
     "data": {
      "text/html": [
       "<div>\n",
       "<style scoped>\n",
       "    .dataframe tbody tr th:only-of-type {\n",
       "        vertical-align: middle;\n",
       "    }\n",
       "\n",
       "    .dataframe tbody tr th {\n",
       "        vertical-align: top;\n",
       "    }\n",
       "\n",
       "    .dataframe thead th {\n",
       "        text-align: right;\n",
       "    }\n",
       "</style>\n",
       "<table border=\"1\" class=\"dataframe\">\n",
       "  <thead>\n",
       "    <tr style=\"text-align: right;\">\n",
       "      <th></th>\n",
       "      <th>Key_id</th>\n",
       "      <th>First_P</th>\n",
       "      <th>Second_P</th>\n",
       "      <th>Third_P</th>\n",
       "      <th>Fourth_P</th>\n",
       "      <th>Fifth_P</th>\n",
       "      <th>Sixth_P</th>\n",
       "      <th>Result</th>\n",
       "      <th>Total</th>\n",
       "      <th>Product</th>\n",
       "      <th>TotalPrediction</th>\n",
       "      <th>SqrtTotal</th>\n",
       "      <th>SqrtTotalPrediction</th>\n",
       "    </tr>\n",
       "    <tr>\n",
       "      <th>RDate</th>\n",
       "      <th></th>\n",
       "      <th></th>\n",
       "      <th></th>\n",
       "      <th></th>\n",
       "      <th></th>\n",
       "      <th></th>\n",
       "      <th></th>\n",
       "      <th></th>\n",
       "      <th></th>\n",
       "      <th></th>\n",
       "      <th></th>\n",
       "      <th></th>\n",
       "      <th></th>\n",
       "    </tr>\n",
       "  </thead>\n",
       "  <tbody>\n",
       "    <tr>\n",
       "      <th>2016-01-02</th>\n",
       "      <td>8302779</td>\n",
       "      <td>10</td>\n",
       "      <td>19</td>\n",
       "      <td>23</td>\n",
       "      <td>28</td>\n",
       "      <td>31</td>\n",
       "      <td>32</td>\n",
       "      <td>Roll</td>\n",
       "      <td>143</td>\n",
       "      <td>121381120</td>\n",
       "      <td>NaN</td>\n",
       "      <td>11.958261</td>\n",
       "      <td>NaN</td>\n",
       "    </tr>\n",
       "    <tr>\n",
       "      <th>2016-01-06</th>\n",
       "      <td>2383816</td>\n",
       "      <td>2</td>\n",
       "      <td>15</td>\n",
       "      <td>25</td>\n",
       "      <td>43</td>\n",
       "      <td>45</td>\n",
       "      <td>46</td>\n",
       "      <td>Roll</td>\n",
       "      <td>176</td>\n",
       "      <td>66757500</td>\n",
       "      <td>143.0</td>\n",
       "      <td>13.266499</td>\n",
       "      <td>11.958261</td>\n",
       "    </tr>\n",
       "    <tr>\n",
       "      <th>2016-01-09</th>\n",
       "      <td>2173466</td>\n",
       "      <td>2</td>\n",
       "      <td>11</td>\n",
       "      <td>14</td>\n",
       "      <td>28</td>\n",
       "      <td>29</td>\n",
       "      <td>34</td>\n",
       "      <td>Roll</td>\n",
       "      <td>118</td>\n",
       "      <td>8503264</td>\n",
       "      <td>176.0</td>\n",
       "      <td>10.862780</td>\n",
       "      <td>13.266499</td>\n",
       "    </tr>\n",
       "    <tr>\n",
       "      <th>2016-01-13</th>\n",
       "      <td>8169338</td>\n",
       "      <td>10</td>\n",
       "      <td>14</td>\n",
       "      <td>26</td>\n",
       "      <td>37</td>\n",
       "      <td>42</td>\n",
       "      <td>47</td>\n",
       "      <td>Roll</td>\n",
       "      <td>176</td>\n",
       "      <td>265858320</td>\n",
       "      <td>118.0</td>\n",
       "      <td>13.266499</td>\n",
       "      <td>10.862780</td>\n",
       "    </tr>\n",
       "    <tr>\n",
       "      <th>2016-01-16</th>\n",
       "      <td>9502701</td>\n",
       "      <td>14</td>\n",
       "      <td>18</td>\n",
       "      <td>25</td>\n",
       "      <td>27</td>\n",
       "      <td>33</td>\n",
       "      <td>44</td>\n",
       "      <td>Roll</td>\n",
       "      <td>161</td>\n",
       "      <td>246985200</td>\n",
       "      <td>176.0</td>\n",
       "      <td>12.688578</td>\n",
       "      <td>13.266499</td>\n",
       "    </tr>\n",
       "  </tbody>\n",
       "</table>\n",
       "</div>"
      ],
      "text/plain": [
       "             Key_id  First_P  Second_P  Third_P  Fourth_P  Fifth_P  Sixth_P  \\\n",
       "RDate                                                                         \n",
       "2016-01-02  8302779       10        19       23        28       31       32   \n",
       "2016-01-06  2383816        2        15       25        43       45       46   \n",
       "2016-01-09  2173466        2        11       14        28       29       34   \n",
       "2016-01-13  8169338       10        14       26        37       42       47   \n",
       "2016-01-16  9502701       14        18       25        27       33       44   \n",
       "\n",
       "           Result  Total    Product  TotalPrediction  SqrtTotal  \\\n",
       "RDate                                                             \n",
       "2016-01-02   Roll    143  121381120              NaN  11.958261   \n",
       "2016-01-06   Roll    176   66757500            143.0  13.266499   \n",
       "2016-01-09   Roll    118    8503264            176.0  10.862780   \n",
       "2016-01-13   Roll    176  265858320            118.0  13.266499   \n",
       "2016-01-16   Roll    161  246985200            176.0  12.688578   \n",
       "\n",
       "            SqrtTotalPrediction  \n",
       "RDate                            \n",
       "2016-01-02                  NaN  \n",
       "2016-01-06            11.958261  \n",
       "2016-01-09            13.266499  \n",
       "2016-01-13            10.862780  \n",
       "2016-01-16            13.266499  "
      ]
     },
     "execution_count": 48,
     "metadata": {},
     "output_type": "execute_result"
    }
   ],
   "source": [
    "df.head(5)"
   ]
  },
  {
   "cell_type": "code",
   "execution_count": 49,
   "id": "c46f6526-868a-4e5d-b401-fd97b13f38b5",
   "metadata": {},
   "outputs": [],
   "source": [
    "y_trueSqrt = df.iloc[1:]['SqrtTotal']\n",
    "y_predSqrt = df.iloc[1:]['SqrtTotalPrediction']"
   ]
  },
  {
   "cell_type": "code",
   "execution_count": 50,
   "id": "95f13068-a8b4-4ab0-81c1-fd48601f31e2",
   "metadata": {},
   "outputs": [
    {
     "data": {
      "text/plain": [
       "2330.3243510711923"
      ]
     },
     "execution_count": 50,
     "metadata": {},
     "output_type": "execute_result"
    }
   ],
   "source": [
    "# SSE\n",
    "(y_trueSqrt-y_predSqrt).dot(y_trueSqrt-y_predSqrt)"
   ]
  },
  {
   "cell_type": "code",
   "execution_count": 51,
   "id": "3ce8595a-d80b-4b6c-bdb9-77c0e4c1e17e",
   "metadata": {},
   "outputs": [
    {
     "data": {
      "text/plain": [
       "3.442133458007669"
      ]
     },
     "execution_count": 51,
     "metadata": {},
     "output_type": "execute_result"
    }
   ],
   "source": [
    "# MSE\n",
    "mean_squared_error(y_trueSqrt,y_predSqrt)"
   ]
  },
  {
   "cell_type": "code",
   "execution_count": 52,
   "id": "8b48fa9b-f6b5-4d11-9f97-c18c007ce43d",
   "metadata": {},
   "outputs": [
    {
     "data": {
      "text/plain": [
       "1.8552987516860104"
      ]
     },
     "execution_count": 52,
     "metadata": {},
     "output_type": "execute_result"
    }
   ],
   "source": [
    "# RMSE\n",
    "mean_squared_error(y_trueSqrt,y_predSqrt,squared=False)"
   ]
  },
  {
   "cell_type": "code",
   "execution_count": 53,
   "id": "7230096a-cbe5-40a3-85bf-7f6dbb59ceda",
   "metadata": {},
   "outputs": [
    {
     "data": {
      "text/plain": [
       "1.4786540346243815"
      ]
     },
     "execution_count": 53,
     "metadata": {},
     "output_type": "execute_result"
    }
   ],
   "source": [
    "# MAE\n",
    "mean_absolute_error(y_trueSqrt,y_predSqrt)"
   ]
  },
  {
   "cell_type": "code",
   "execution_count": 54,
   "id": "c8665a8f-2a6a-459b-9eca-74698b121350",
   "metadata": {},
   "outputs": [
    {
     "data": {
      "text/plain": [
       "-1.039615471904193"
      ]
     },
     "execution_count": 54,
     "metadata": {},
     "output_type": "execute_result"
    }
   ],
   "source": [
    "# R^2\n",
    "r2_score(y_trueSqrt,y_predSqrt)"
   ]
  },
  {
   "cell_type": "markdown",
   "id": "dac3f1b2-68b8-4087-a5e7-dec37df06e6e",
   "metadata": {},
   "source": [
    "# below is for BoxCox of Product"
   ]
  },
  {
   "cell_type": "code",
   "execution_count": 58,
   "id": "db70a0f6-3704-4098-a568-122ff64fb379",
   "metadata": {},
   "outputs": [],
   "source": [
    "data , lam = boxcox(df['Product'])\n",
    "df['BoxCoxProduct'] = data"
   ]
  },
  {
   "cell_type": "code",
   "execution_count": 66,
   "id": "df626198-f562-4a99-9fcf-2695991e0a30",
   "metadata": {},
   "outputs": [
    {
     "data": {
      "text/plain": [
       "0.04902427257987969"
      ]
     },
     "execution_count": 66,
     "metadata": {},
     "output_type": "execute_result"
    }
   ],
   "source": [
    "lam"
   ]
  },
  {
   "cell_type": "code",
   "execution_count": 59,
   "id": "8c09667c-a45e-46b6-9ae5-291b56f1c4e3",
   "metadata": {},
   "outputs": [],
   "source": [
    "df['BoxCoxProductPrediction'] = df['BoxCoxProduct'].shift(1)"
   ]
  },
  {
   "cell_type": "code",
   "execution_count": 60,
   "id": "fcd88c4d-71cb-42e4-bbd4-ff349c7da3f0",
   "metadata": {},
   "outputs": [],
   "source": [
    "y_trueProduct = df.iloc[1:]['BoxCoxProduct']\n",
    "y_predProduct = df.iloc[1:]['BoxCoxProductPrediction']"
   ]
  },
  {
   "cell_type": "code",
   "execution_count": 61,
   "id": "b564e9f3-ff64-4878-959a-64b639181ae4",
   "metadata": {},
   "outputs": [
    {
     "data": {
      "text/plain": [
       "28390.960644343737"
      ]
     },
     "execution_count": 61,
     "metadata": {},
     "output_type": "execute_result"
    }
   ],
   "source": [
    "# SSE\n",
    "(y_trueProduct-y_predProduct).dot(y_trueProduct-y_predProduct)"
   ]
  },
  {
   "cell_type": "code",
   "execution_count": null,
   "id": "c2ad13ba-10fd-41a1-8b87-0b5fee1e0edd",
   "metadata": {},
   "outputs": [],
   "source": []
  },
  {
   "cell_type": "code",
   "execution_count": null,
   "id": "dbc0e0bf-c09c-40d1-ab73-bf5b1b9882dd",
   "metadata": {},
   "outputs": [],
   "source": []
  },
  {
   "cell_type": "code",
   "execution_count": null,
   "id": "c114701d-b1fa-468f-b69a-e32209089eff",
   "metadata": {},
   "outputs": [],
   "source": []
  },
  {
   "cell_type": "code",
   "execution_count": 62,
   "id": "1eb093a0-13d8-464c-8173-02c801d9cdbd",
   "metadata": {},
   "outputs": [
    {
     "data": {
      "text/plain": [
       "-0.9365079383131651"
      ]
     },
     "execution_count": 62,
     "metadata": {},
     "output_type": "execute_result"
    }
   ],
   "source": [
    "# R^2\n",
    "r2_score(y_trueProduct,y_predProduct)"
   ]
  },
  {
   "cell_type": "code",
   "execution_count": 67,
   "id": "0121b008-b721-40b0-81d5-cc9da012ffa8",
   "metadata": {},
   "outputs": [
    {
     "data": {
      "text/html": [
       "<div>\n",
       "<style scoped>\n",
       "    .dataframe tbody tr th:only-of-type {\n",
       "        vertical-align: middle;\n",
       "    }\n",
       "\n",
       "    .dataframe tbody tr th {\n",
       "        vertical-align: top;\n",
       "    }\n",
       "\n",
       "    .dataframe thead th {\n",
       "        text-align: right;\n",
       "    }\n",
       "</style>\n",
       "<table border=\"1\" class=\"dataframe\">\n",
       "  <thead>\n",
       "    <tr style=\"text-align: right;\">\n",
       "      <th></th>\n",
       "      <th>Key_id</th>\n",
       "      <th>First_P</th>\n",
       "      <th>Second_P</th>\n",
       "      <th>Third_P</th>\n",
       "      <th>Fourth_P</th>\n",
       "      <th>Fifth_P</th>\n",
       "      <th>Sixth_P</th>\n",
       "      <th>Result</th>\n",
       "      <th>Total</th>\n",
       "      <th>Product</th>\n",
       "      <th>TotalPrediction</th>\n",
       "      <th>SqrtTotal</th>\n",
       "      <th>SqrtTotalPrediction</th>\n",
       "      <th>BoxCoxProduct</th>\n",
       "      <th>BoxCoxProductPrediction</th>\n",
       "    </tr>\n",
       "    <tr>\n",
       "      <th>RDate</th>\n",
       "      <th></th>\n",
       "      <th></th>\n",
       "      <th></th>\n",
       "      <th></th>\n",
       "      <th></th>\n",
       "      <th></th>\n",
       "      <th></th>\n",
       "      <th></th>\n",
       "      <th></th>\n",
       "      <th></th>\n",
       "      <th></th>\n",
       "      <th></th>\n",
       "      <th></th>\n",
       "      <th></th>\n",
       "      <th></th>\n",
       "    </tr>\n",
       "  </thead>\n",
       "  <tbody>\n",
       "    <tr>\n",
       "      <th>2016-01-02</th>\n",
       "      <td>8302779</td>\n",
       "      <td>10</td>\n",
       "      <td>19</td>\n",
       "      <td>23</td>\n",
       "      <td>28</td>\n",
       "      <td>31</td>\n",
       "      <td>32</td>\n",
       "      <td>Roll</td>\n",
       "      <td>143</td>\n",
       "      <td>121381120</td>\n",
       "      <td>NaN</td>\n",
       "      <td>11.958261</td>\n",
       "      <td>NaN</td>\n",
       "      <td>30.407177</td>\n",
       "      <td>NaN</td>\n",
       "    </tr>\n",
       "    <tr>\n",
       "      <th>2016-01-06</th>\n",
       "      <td>2383816</td>\n",
       "      <td>2</td>\n",
       "      <td>15</td>\n",
       "      <td>25</td>\n",
       "      <td>43</td>\n",
       "      <td>45</td>\n",
       "      <td>46</td>\n",
       "      <td>Roll</td>\n",
       "      <td>176</td>\n",
       "      <td>66757500</td>\n",
       "      <td>143.0</td>\n",
       "      <td>13.266499</td>\n",
       "      <td>11.958261</td>\n",
       "      <td>28.939683</td>\n",
       "      <td>30.407177</td>\n",
       "    </tr>\n",
       "    <tr>\n",
       "      <th>2016-01-09</th>\n",
       "      <td>2173466</td>\n",
       "      <td>2</td>\n",
       "      <td>11</td>\n",
       "      <td>14</td>\n",
       "      <td>28</td>\n",
       "      <td>29</td>\n",
       "      <td>34</td>\n",
       "      <td>Roll</td>\n",
       "      <td>118</td>\n",
       "      <td>8503264</td>\n",
       "      <td>176.0</td>\n",
       "      <td>10.862780</td>\n",
       "      <td>13.266499</td>\n",
       "      <td>24.199053</td>\n",
       "      <td>28.939683</td>\n",
       "    </tr>\n",
       "    <tr>\n",
       "      <th>2016-01-13</th>\n",
       "      <td>8169338</td>\n",
       "      <td>10</td>\n",
       "      <td>14</td>\n",
       "      <td>26</td>\n",
       "      <td>37</td>\n",
       "      <td>42</td>\n",
       "      <td>47</td>\n",
       "      <td>Roll</td>\n",
       "      <td>176</td>\n",
       "      <td>265858320</td>\n",
       "      <td>118.0</td>\n",
       "      <td>13.266499</td>\n",
       "      <td>10.862780</td>\n",
       "      <td>32.397962</td>\n",
       "      <td>24.199053</td>\n",
       "    </tr>\n",
       "    <tr>\n",
       "      <th>2016-01-16</th>\n",
       "      <td>9502701</td>\n",
       "      <td>14</td>\n",
       "      <td>18</td>\n",
       "      <td>25</td>\n",
       "      <td>27</td>\n",
       "      <td>33</td>\n",
       "      <td>44</td>\n",
       "      <td>Roll</td>\n",
       "      <td>161</td>\n",
       "      <td>246985200</td>\n",
       "      <td>176.0</td>\n",
       "      <td>12.688578</td>\n",
       "      <td>13.266499</td>\n",
       "      <td>32.207717</td>\n",
       "      <td>32.397962</td>\n",
       "    </tr>\n",
       "    <tr>\n",
       "      <th>2016-01-20</th>\n",
       "      <td>2899486</td>\n",
       "      <td>3</td>\n",
       "      <td>6</td>\n",
       "      <td>17</td>\n",
       "      <td>23</td>\n",
       "      <td>27</td>\n",
       "      <td>29</td>\n",
       "      <td>Roll</td>\n",
       "      <td>105</td>\n",
       "      <td>5510754</td>\n",
       "      <td>161.0</td>\n",
       "      <td>10.246951</td>\n",
       "      <td>12.688578</td>\n",
       "      <td>23.260742</td>\n",
       "      <td>32.207717</td>\n",
       "    </tr>\n",
       "    <tr>\n",
       "      <th>2016-01-23</th>\n",
       "      <td>8038497</td>\n",
       "      <td>10</td>\n",
       "      <td>12</td>\n",
       "      <td>13</td>\n",
       "      <td>19</td>\n",
       "      <td>43</td>\n",
       "      <td>45</td>\n",
       "      <td>Won</td>\n",
       "      <td>142</td>\n",
       "      <td>57353400</td>\n",
       "      <td>105.0</td>\n",
       "      <td>11.916375</td>\n",
       "      <td>10.246951</td>\n",
       "      <td>28.573797</td>\n",
       "      <td>23.260742</td>\n",
       "    </tr>\n",
       "    <tr>\n",
       "      <th>2016-01-27</th>\n",
       "      <td>5519922</td>\n",
       "      <td>6</td>\n",
       "      <td>7</td>\n",
       "      <td>11</td>\n",
       "      <td>17</td>\n",
       "      <td>23</td>\n",
       "      <td>33</td>\n",
       "      <td>Roll</td>\n",
       "      <td>97</td>\n",
       "      <td>5961186</td>\n",
       "      <td>142.0</td>\n",
       "      <td>9.848858</td>\n",
       "      <td>11.916375</td>\n",
       "      <td>23.429229</td>\n",
       "      <td>28.573797</td>\n",
       "    </tr>\n",
       "    <tr>\n",
       "      <th>2016-01-30</th>\n",
       "      <td>10473964</td>\n",
       "      <td>21</td>\n",
       "      <td>25</td>\n",
       "      <td>26</td>\n",
       "      <td>28</td>\n",
       "      <td>33</td>\n",
       "      <td>47</td>\n",
       "      <td>Roll</td>\n",
       "      <td>180</td>\n",
       "      <td>592792200</td>\n",
       "      <td>97.0</td>\n",
       "      <td>13.416408</td>\n",
       "      <td>9.848858</td>\n",
       "      <td>34.514794</td>\n",
       "      <td>23.429229</td>\n",
       "    </tr>\n",
       "    <tr>\n",
       "      <th>2016-02-03</th>\n",
       "      <td>310809</td>\n",
       "      <td>1</td>\n",
       "      <td>4</td>\n",
       "      <td>7</td>\n",
       "      <td>14</td>\n",
       "      <td>15</td>\n",
       "      <td>42</td>\n",
       "      <td>Roll</td>\n",
       "      <td>83</td>\n",
       "      <td>246960</td>\n",
       "      <td>180.0</td>\n",
       "      <td>9.110434</td>\n",
       "      <td>13.416408</td>\n",
       "      <td>17.095653</td>\n",
       "      <td>34.514794</td>\n",
       "    </tr>\n",
       "  </tbody>\n",
       "</table>\n",
       "</div>"
      ],
      "text/plain": [
       "              Key_id  First_P  Second_P  Third_P  Fourth_P  Fifth_P  Sixth_P  \\\n",
       "RDate                                                                          \n",
       "2016-01-02   8302779       10        19       23        28       31       32   \n",
       "2016-01-06   2383816        2        15       25        43       45       46   \n",
       "2016-01-09   2173466        2        11       14        28       29       34   \n",
       "2016-01-13   8169338       10        14       26        37       42       47   \n",
       "2016-01-16   9502701       14        18       25        27       33       44   \n",
       "2016-01-20   2899486        3         6       17        23       27       29   \n",
       "2016-01-23   8038497       10        12       13        19       43       45   \n",
       "2016-01-27   5519922        6         7       11        17       23       33   \n",
       "2016-01-30  10473964       21        25       26        28       33       47   \n",
       "2016-02-03    310809        1         4        7        14       15       42   \n",
       "\n",
       "           Result  Total    Product  TotalPrediction  SqrtTotal  \\\n",
       "RDate                                                             \n",
       "2016-01-02   Roll    143  121381120              NaN  11.958261   \n",
       "2016-01-06   Roll    176   66757500            143.0  13.266499   \n",
       "2016-01-09   Roll    118    8503264            176.0  10.862780   \n",
       "2016-01-13   Roll    176  265858320            118.0  13.266499   \n",
       "2016-01-16   Roll    161  246985200            176.0  12.688578   \n",
       "2016-01-20   Roll    105    5510754            161.0  10.246951   \n",
       "2016-01-23    Won    142   57353400            105.0  11.916375   \n",
       "2016-01-27   Roll     97    5961186            142.0   9.848858   \n",
       "2016-01-30   Roll    180  592792200             97.0  13.416408   \n",
       "2016-02-03   Roll     83     246960            180.0   9.110434   \n",
       "\n",
       "            SqrtTotalPrediction  BoxCoxProduct  BoxCoxProductPrediction  \n",
       "RDate                                                                    \n",
       "2016-01-02                  NaN      30.407177                      NaN  \n",
       "2016-01-06            11.958261      28.939683                30.407177  \n",
       "2016-01-09            13.266499      24.199053                28.939683  \n",
       "2016-01-13            10.862780      32.397962                24.199053  \n",
       "2016-01-16            13.266499      32.207717                32.397962  \n",
       "2016-01-20            12.688578      23.260742                32.207717  \n",
       "2016-01-23            10.246951      28.573797                23.260742  \n",
       "2016-01-27            11.916375      23.429229                28.573797  \n",
       "2016-01-30             9.848858      34.514794                23.429229  \n",
       "2016-02-03            13.416408      17.095653                34.514794  "
      ]
     },
     "execution_count": 67,
     "metadata": {},
     "output_type": "execute_result"
    }
   ],
   "source": [
    "df.head(10)"
   ]
  }
 ],
 "metadata": {
  "kernelspec": {
   "display_name": "Python 3 (ipykernel)",
   "language": "python",
   "name": "python3"
  },
  "language_info": {
   "codemirror_mode": {
    "name": "ipython",
    "version": 3
   },
   "file_extension": ".py",
   "mimetype": "text/x-python",
   "name": "python",
   "nbconvert_exporter": "python",
   "pygments_lexer": "ipython3",
   "version": "3.9.7"
  }
 },
 "nbformat": 4,
 "nbformat_minor": 5
}
