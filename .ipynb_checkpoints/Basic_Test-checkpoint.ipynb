{
 "cells": [
  {
   "cell_type": "code",
   "execution_count": null,
   "id": "68539198-3194-498a-a171-4aae6419472f",
   "metadata": {
    "tags": []
   },
   "outputs": [],
   "source": [
    "!pip install numpy\n",
    "!pip install pandas"
   ]
  },
  {
   "cell_type": "code",
   "execution_count": 5,
   "id": "1b6e3dbf-b091-44ff-94b6-91b893ff6859",
   "metadata": {
    "tags": []
   },
   "outputs": [],
   "source": [
    "import numpy as np"
   ]
  },
  {
   "cell_type": "code",
   "execution_count": 6,
   "id": "27dc0cbc-ad38-4b02-a682-d29533371e31",
   "metadata": {
    "jupyter": {
     "source_hidden": true
    },
    "tags": []
   },
   "outputs": [],
   "source": [
    "N = 1000\n",
    "X = np.random.random((N,2))*6-3"
   ]
  },
  {
   "cell_type": "code",
   "execution_count": null,
   "id": "a09a203e-1233-49e5-b80c-c26845795bf7",
   "metadata": {
    "tags": []
   },
   "outputs": [],
   "source": [
    "print(X[:,0])"
   ]
  },
  {
   "cell_type": "code",
   "execution_count": null,
   "id": "07863da7-3fbb-49ca-9ae9-69cb919e8065",
   "metadata": {},
   "outputs": [],
   "source": []
  }
 ],
 "metadata": {
  "kernelspec": {
   "display_name": "Python 3 (ipykernel)",
   "language": "python",
   "name": "python3"
  },
  "language_info": {
   "codemirror_mode": {
    "name": "ipython",
    "version": 3
   },
   "file_extension": ".py",
   "mimetype": "text/x-python",
   "name": "python",
   "nbconvert_exporter": "python",
   "pygments_lexer": "ipython3",
   "version": "3.10.1"
  }
 },
 "nbformat": 4,
 "nbformat_minor": 5
}
